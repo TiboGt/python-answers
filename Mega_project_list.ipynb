{
 "cells": [
  {
   "cell_type": "markdown",
   "metadata": {},
   "source": [
    "https://github.com/karan/Projects/blob/master/README.md  \n",
    "https://github.com/jorgegonzalez/beginner-projects"
   ]
  },
  {
   "cell_type": "markdown",
   "metadata": {},
   "source": [
    "Find PI to the Nth Digit - Enter a number and have the program generate PI up to that many decimal places. Keep a limit to how far the program will go."
   ]
  },
  {
   "cell_type": "code",
   "execution_count": 1,
   "metadata": {},
   "outputs": [
    {
     "name": "stdout",
     "output_type": "stream",
     "text": [
      "PI to 3 decimal places is: \n",
      "3.142\n"
     ]
    }
   ],
   "source": [
    "from mpmath import mp\n",
    "\n",
    "def compute_pi_to_nth_digit(n):\n",
    "    # Set the precision to n+1 to ensure the nth digit is accurate\n",
    "    mp.dps = n + 1\n",
    "    # Compute PI with the set precision\n",
    "    pi_value = mp.pi\n",
    "    return pi_value\n",
    "\n",
    "def main():\n",
    "    try:\n",
    "        #Ask the user for the number of decimal places\n",
    "        n = int(input(\"Enter the number of decimal places for PI:\"))\n",
    "        if n < 1:\n",
    "            raise ValueError(\"The number of decimal places must be a postive integer\")\n",
    "        if n >= 50:\n",
    "            raise ValueError(\"The number of decimal should be lower than 50\")\n",
    "        \n",
    "        # Compute PI to the Nth decimal place\n",
    "        pi_value = compute_pi_to_nth_digit(n)\n",
    "        print(f\"PI to {n} decimal places is: \\n{pi_value}\")\n",
    "    \n",
    "    except ValueError as ve:\n",
    "        print(f\"Invalid input: {ve}\")\n",
    "\n",
    "if __name__ == \"__main__\":\n",
    "    main()"
   ]
  },
  {
   "cell_type": "markdown",
   "metadata": {},
   "source": [
    "Find e to the Nth Digit - Just like the previous problem, but with e instead of PI. Enter a number and have the program generate e up to that many decimal places. Keep a limit to how far the program will go."
   ]
  },
  {
   "cell_type": "code",
   "execution_count": 2,
   "metadata": {},
   "outputs": [
    {
     "name": "stdout",
     "output_type": "stream",
     "text": [
      "e to 3 decimal places is: \n",
      "2.718\n"
     ]
    }
   ],
   "source": [
    "from mpmath import mp\n",
    "\n",
    "def compute_e_to_nth_digit(n):\n",
    "    # Set the precision to n+1 to ensure the nth digit is accurate\n",
    "    mp.dps = n + 1\n",
    "    # Compute PI with the set precision\n",
    "    e_value = mp.e\n",
    "    return e_value\n",
    "\n",
    "def main():\n",
    "    try:\n",
    "        #Ask the user for the number of decimal places\n",
    "        n = int(input(\"Enter the number of decimal places for e:\"))\n",
    "        if n < 1:\n",
    "            raise ValueError(\"The number of decimal places must be a postive integer\")\n",
    "        if n >= 50:\n",
    "            raise ValueError(\"The number of decimal should be lower than 50\")\n",
    "        \n",
    "        # Compute PI to the Nth decimal place\n",
    "        e_value = compute_e_to_nth_digit(n)\n",
    "        print(f\"e to {n} decimal places is: \\n{e_value}\")\n",
    "    \n",
    "    except ValueError as ve:\n",
    "        print(f\"Invalid input: {ve}\")\n",
    "\n",
    "if __name__ == \"__main__\":\n",
    "    main()"
   ]
  },
  {
   "cell_type": "markdown",
   "metadata": {},
   "source": [
    "Fibonacci Sequence - Enter a number and have the program generate the Fibonacci sequence to that number or to the Nth number."
   ]
  },
  {
   "cell_type": "code",
   "execution_count": 3,
   "metadata": {},
   "outputs": [
    {
     "name": "stdout",
     "output_type": "stream",
     "text": [
      "0\n",
      "1\n",
      "1\n"
     ]
    }
   ],
   "source": [
    "def fibonnaci(n):\n",
    "    # Create de fibonnaci sequence\n",
    "    if n <=1:\n",
    "        return n\n",
    "    else:\n",
    "        return fibonnaci(n-1) + fibonnaci(n-2)\n",
    "    \n",
    "def main():\n",
    "    try:\n",
    "        #Ask the user for the number of fibonnaci numbers to print\n",
    "        n = int(input(\"How many fibonnaci numbers do you want to print? \"))\n",
    "        # Print the fibonnaci numbers\n",
    "        for i in range(n):\n",
    "            print(fibonnaci(i))\n",
    "    except ValueError:\n",
    "        print(\"Please enter a number.\")\n",
    "\n",
    "if __name__ == \"__main__\":\n",
    "    main()"
   ]
  },
  {
   "cell_type": "markdown",
   "metadata": {},
   "source": [
    "Prime Factorization - Have the user enter a number and find all Prime Factors (if there are any) and display them."
   ]
  },
  {
   "cell_type": "code",
   "execution_count": 4,
   "metadata": {},
   "outputs": [
    {
     "name": "stdout",
     "output_type": "stream",
     "text": [
      "Prime factors of 3 are:\n",
      "3\n"
     ]
    }
   ],
   "source": [
    "def prime_factors(n):\n",
    "    prime_factors = []\n",
    "    for i in range(2, n + 1):\n",
    "        while n % i == 0:\n",
    "            prime_factors.append(i)\n",
    "            n = n // i\n",
    "    return prime_factors\n",
    "\n",
    "\n",
    "def main():\n",
    "    try:\n",
    "        #Ask the user for the number to find all prime factors from\n",
    "        n = int(input(\"Enter a number to find all prime factors from: \"))\n",
    "        #Call the function to find all prime factors\n",
    "        prime_factor = prime_factors(n)\n",
    "        \n",
    "        if len(prime_factor) == 0:\n",
    "            print(\"No prime factors found\")\n",
    "        else:\n",
    "            print(\"Prime factors of\", n, \"are:\")\n",
    "            for i in prime_factor:\n",
    "                print(i)\n",
    "\n",
    "    except ValueError:\n",
    "        print(\"Please enter a valid number\")\n",
    "\n",
    "if __name__ == \"__main__\":\n",
    "    main()"
   ]
  },
  {
   "cell_type": "markdown",
   "metadata": {},
   "source": [
    "Next Prime Number - Have the program find prime numbers until the user chooses to stop asking for the next one."
   ]
  },
  {
   "cell_type": "code",
   "execution_count": 5,
   "metadata": {},
   "outputs": [
    {
     "name": "stdout",
     "output_type": "stream",
     "text": [
      "The first prime number is 2, would you like to print others ?\n"
     ]
    }
   ],
   "source": [
    "def is_prime(num):\n",
    "    # Helper function to check if a number is prime\n",
    "    if num <= 1:\n",
    "        return False\n",
    "    for i in range (2, num):\n",
    "        if num % i == 0:\n",
    "            return False\n",
    "    return True\n",
    "\n",
    "def main():\n",
    "    try:\n",
    "        # Prime number\n",
    "        n = 2\n",
    "        #Count \n",
    "        print(\"The first prime number is 2, would you like to print others ?\")\n",
    "        user_input = input(\"Continue ? [Y/?N]\").strip().lower()\n",
    "\n",
    "        while user_input.lower() != \"n\" :\n",
    "            n += 1\n",
    "\n",
    "            while not is_prime(n):\n",
    "                n += 1\n",
    "\n",
    "            print(f\"Next prime number is: {n}\")\n",
    "\n",
    "            user_input = input(\"Continue ? [Y/?N]\").strip().lower()\n",
    "            \n",
    "    except ValueError:\n",
    "        print(\"please_enter_valid_input\")\n",
    "\n",
    "if __name__ == \"__main__\":\n",
    "    main()"
   ]
  },
  {
   "cell_type": "markdown",
   "metadata": {},
   "source": [
    "Find Cost of Tile to Cover W x H Floor - Calculate the total cost of tile it would take to cover a floor plan of width and height, using a cost entered by the user."
   ]
  },
  {
   "cell_type": "code",
   "execution_count": null,
   "metadata": {},
   "outputs": [
    {
     "name": "stdout",
     "output_type": "stream",
     "text": [
      "Total cost: 99.30393184796854 \\$\n"
     ]
    }
   ],
   "source": [
    "def main():\n",
    "    try:\n",
    "        tile_cost = float(input('Cost of tile: '))\n",
    "        width = float(input('Width: '))\n",
    "        height = float(input('Height: '))\n",
    "        area = width*height\n",
    "        area_tile = float(input('Tile area:'))\n",
    "        total_cost = area/(area_tile*tile_cost)\n",
    "        print(f\"Total cost: {total_cost} $\")\n",
    "    except ValueError:\n",
    "        print(\"Please enter valid input\")\n",
    "\n",
    "if __name__ == \"__main__\":\n",
    "    main()"
   ]
  },
  {
   "cell_type": "markdown",
   "metadata": {},
   "source": [
    "Mortgage Calculator - Calculate the monthly payments of a fixed term mortgage over given Nth terms at a given interest rate. Also figure out how long it will take the user to pay back the loan. For added complexity, add an option for users to select the compounding interval (Monthly, Weekly, Daily, Continually)."
   ]
  },
  {
   "cell_type": "code",
   "execution_count": null,
   "metadata": {},
   "outputs": [
    {
     "name": "stdout",
     "output_type": "stream",
     "text": [
      "For an amount of 425000.00$ in the span of 30 years at an interest rate of 0.05 the Monthly payment is: 2281.49 $\n"
     ]
    }
   ],
   "source": [
    "def mortgage_formula(amount, interest_rate, loan_term):\n",
    "    \n",
    "    compounding_interval = str(input('Selec compounding interval: [Monthly, Weekly, Daily]')).strip.lower()\n",
    "    if compounding_interval == 'monthly':\n",
    "        r = interest_rate/12\n",
    "        t = loan_term*12\n",
    "    elif compounding_interval == 'weekly':\n",
    "        r = interest_rate/52\n",
    "        t = loan_term*52\n",
    "    elif compounding_interval == 'daily':\n",
    "        r = interest_rate/365\n",
    "        t = loan_term*365\n",
    "    else:\n",
    "        raise ValueError('Invalid compounding interval selected')\n",
    "\n",
    "    first_term = r*pow((1+r),t)\n",
    "    second_term = pow(1+r,t)-1\n",
    "    monthly_payment = amount  * (first_term/second_term)\n",
    "    return monthly_payment, compounding_interval\n",
    "\n",
    "\n",
    "def main():\n",
    "    try:\n",
    "        \n",
    "        amount = float(input(\"Amount to pay: \"))\n",
    "        interest_rate = float(input(\"Interest rate (as a decima): \"))\n",
    "        loan_term = float(input(\"Select a loan term (in years): \"))\n",
    "\n",
    "        monthly_payment, compounding_interval = mortgage_formula(amount, interest_rate, loan_term)\n",
    "        print(f\"For an amount of {amount:.2f}$ in the span of {loan_term:.0f} years at an interest rate of {interest_rate} the {compounding_interval} payment is: {monthly_payment:.2f}$\")\n",
    "    \n",
    "    except ValueError as e:\n",
    "        print(f\"Error : {e}. Please enter valid input\")\n",
    "\n",
    "if __name__ == (\"__main__\"):\n",
    "    main()"
   ]
  },
  {
   "cell_type": "markdown",
   "metadata": {},
   "source": [
    "Change Return Program - The user enters a cost and then the amount of money given. The program will figure out the change and the number of quarters, dimes, nickels, pennies needed for the change"
   ]
  },
  {
   "cell_type": "code",
   "execution_count": 11,
   "metadata": {},
   "outputs": [
    {
     "name": "stdout",
     "output_type": "stream",
     "text": [
      "Cost: 452.24$\n",
      "Paid: 452.26$\n",
      "Change to be returned: 0.02\n",
      "Change in coins:\n",
      "2 pennies\n"
     ]
    }
   ],
   "source": [
    "# Notes  1 penny = 0.01$, 1 nickel = 0.05$, 1 dime = 0.10$, 1 quarter = 0.25$\n",
    "def calculate_change(change):\n",
    "    # Calculate the number of each coin type needed for the change\n",
    "    change_cents = round(change*100) # Convert to cents\n",
    "    coins = {\n",
    "        \"quarters\": 25,\n",
    "        \"dimes\": 10,\n",
    "        \"nickels\": 5,\n",
    "        \"pennies\": 1\n",
    "    }\n",
    "    coin_count = {}\n",
    "    for coin, value in coins.items():\n",
    "        # Calculate the number of coins of this type needed\n",
    "        count = change_cents // value\n",
    "        # Update the remaining change\n",
    "        change_cents -= count * value\n",
    "        # Store the count of coins in the dictionary\n",
    "        if count > 0:\n",
    "            coin_count[coin] = int(count)\n",
    "    return coin_count\n",
    "def main():\n",
    "    try:\n",
    "        # Ask the user for the cost\n",
    "        cost = float(input(\"Enter the cost of the item: \"))\n",
    "        print(f\"Cost: {cost:.2f}$\")\n",
    "        # Ask the user for the amount paid\n",
    "        paid = float(input(\"Enter the amount paid:\"))\n",
    "        print(f\"Paid: {paid:.2f}$\")\n",
    "        # Calculate the change\n",
    "        change = paid - cost\n",
    "        if change < 0:\n",
    "            raise ValueError(\"The amount paid is less than the cost\")\n",
    "        else:\n",
    "            print(f\"Change to be returned: {change:.2f}\")\n",
    "            #Calculate the change in coins\n",
    "            coins = calculate_change(change)\n",
    "            print(\"Change in coins:\")\n",
    "            for coin, count in coins.items():\n",
    "                print(f\"{count} {coin}\")\n",
    "    \n",
    "    except ValueError as e:\n",
    "        print(f\"Error {e}. Please enter valid input\")\n",
    "\n",
    "if __name__ == \"__main__\":\n",
    "    main()\n"
   ]
  },
  {
   "cell_type": "markdown",
   "metadata": {},
   "source": [
    "Binary to Decimal and Back Converter - Develop a converter to convert a decimal number to binary or a binary number to its decimal equivalent."
   ]
  },
  {
   "cell_type": "code",
   "execution_count": 19,
   "metadata": {},
   "outputs": [
    {
     "name": "stdout",
     "output_type": "stream",
     "text": [
      "Binary number is: 111\n",
      "Decimal number is: 7\n"
     ]
    }
   ],
   "source": [
    "def binary_to_decimal(binary):\n",
    "    # Convert binary to decimal\n",
    "    decimal = int(binary, 2)\n",
    "    return decimal\n",
    "\n",
    "def decimal_to_binary(decimal):\n",
    "    # Convert decimal to binary \n",
    "    binary = bin(int(decimal))[2:] #Removing the 0b makes the output simply 1110, which might be necessary for certain formatting requirements or calculations\n",
    "    return binary\n",
    "\n",
    "def main():\n",
    "    try :\n",
    "        #Ask the user for the conversion type\n",
    "        conversion_type = input(\"Select a conversion type: [1] Binary to Decimal, [2] Decimal to Binary:\").strip()\n",
    "        if conversion_type == \"1\":\n",
    "            # Convert binary to decimal\n",
    "            binary = input('Enter a binary number:')\n",
    "            print(f\"Binary number is: {binary}\")\n",
    "            # Validate binary input\n",
    "            if not all(char in '01' for char in binary):\n",
    "                raise ValueError(\"Invalid binary number\")\n",
    "            decimal = binary_to_decimal(binary)\n",
    "            print(f\"Decimal number is: {decimal}\")\n",
    "        elif conversion_type == \"2\":\n",
    "            # Convert decimal to binary\n",
    "            decimal = float(input('Enter a decimal number:'))\n",
    "            print(f\"Decimal number is: {decimal}\")\n",
    "            # Validate decimal input\n",
    "            if decimal < 0:\n",
    "                raise ValueError(\"Invalid decimal number\")\n",
    "            binary = decimal_to_binary(decimal)\n",
    "            print(f\"Binary number is: {binary}\")\n",
    "        else:\n",
    "            raise ValueError(\"Invalid conversion type selected\")\n",
    "        \n",
    "    except ValueError as e:\n",
    "        print(f\"Error: {e}. Please enter valid input\")\n",
    "\n",
    "if __name__ == \"__main__\":\n",
    "    main()"
   ]
  },
  {
   "cell_type": "markdown",
   "metadata": {},
   "source": [
    "Calculator - A simple calculator to do basic operators. Make it a scientific calculator for added complexity."
   ]
  },
  {
   "cell_type": "code",
   "execution_count": null,
   "metadata": {},
   "outputs": [
    {
     "name": "stdout",
     "output_type": "stream",
     "text": [
      "The result of 1/2 is: 0.5\n"
     ]
    }
   ],
   "source": [
    "# This program creates a simple calculator to do basic operations\n",
    "import re\n",
    "\n",
    "\n",
    "def calculate(operation):\n",
    "    \n",
    "    # Extract the operand from the operation string\n",
    "    pattern = r'[^a-zA-Z0-9]'\n",
    "    operand = re.findall(pattern, operation)\n",
    "    if len(operand) != 1:\n",
    "        raise ValueError(\"Invalid input format. Please use the format: number operator number\")\n",
    "    # Extract the numbers from the operation string\n",
    "    pattern2 = r'(\\d+)[^a-zA-Z0-9](\\d+)'\n",
    "    numbers = re.findall(pattern2, operation)\n",
    "    if len(numbers) != 1:\n",
    "        raise ValueError(\"Invalid input format. Please use the format: number operator number\")\n",
    "    a, b = map(float, numbers[0])\n",
    "    \n",
    "    # Perform the calculation based on the operation\n",
    "    if operand[0] == \"+\":\n",
    "        return a+b\n",
    "    elif operand[0] == \"-\":\n",
    "        return a - b\n",
    "    elif operand[0] == \"*\":\n",
    "        return a * b\n",
    "    elif operand[0] == \"/\":\n",
    "        if b != 0:\n",
    "            return a / b\n",
    "        else:\n",
    "            raise ValueError(\"Division by zero is not allowed\")\n",
    "    else:\n",
    "        raise ValueError(\"Invalid operation\")\n",
    "\n",
    "def main():\n",
    "    try:\n",
    "\n",
    "        # Ask the user for the operation in a single line\n",
    "        operation = input('Enter the operation: ')        \n",
    "        # Perform the calculation\n",
    "        result = calculate(operation)\n",
    "        print(f\"The result of {operation} is: {result}\")    \n",
    "    except ValueError as e:\n",
    "        print(f\"Error: {e}. Please enter valid input\")\n",
    "    \n",
    "if __name__ == \"__main__\":\n",
    "    main()"
   ]
  },
  {
   "cell_type": "markdown",
   "metadata": {},
   "source": [
    "Unit Converter (temp, currency, volume, mass and more) - Converts various units between one another.  The user enters the type of unit being entered, the type of unit they want to convert to and then the value. The program will then make the conversion."
   ]
  },
  {
   "cell_type": "code",
   "execution_count": 26,
   "metadata": {},
   "outputs": [
    {
     "name": "stdout",
     "output_type": "stream",
     "text": [
      "80.0 miles_per_hour is equal to 128.75 kilometers_per_hour\n"
     ]
    }
   ],
   "source": [
    "# This program creates a unit converter\n",
    "\n",
    "import requests\n",
    "\n",
    "\n",
    "\n",
    "def convert_units(value, from_unit, to_unit):\n",
    "    # URL de l'API pour obtenir le taux de change actuel entre le dollar et l'euro\n",
    "    url = \"https://api.exchangerate-api.com/v4/latest/USD\"\n",
    "\n",
    "    # Faire une requête GET à l'API\n",
    "    response = requests.get(url)\n",
    "\n",
    "    # Vérifier si la requête a réussi\n",
    "    if response.status_code == 200:\n",
    "        # Extraire les données JSON de la réponse\n",
    "        data = response.json()\n",
    "        # Obtenir le taux de change pour l'euro\n",
    "        eur_rate = data['rates']['EUR']\n",
    "        jpy_rate = data['rates']['JPY']\n",
    "        gbp_rate = data['rates']['GBP']\n",
    "        aud_rate = data['rates']['AUD']\n",
    "        cad_rate = data['rates']['CAD']\n",
    "        swiss_franc_rate = data['rates']['CHF']\n",
    "    else :\n",
    "        raise ValueError(\"Failed to retrieve exchenge rates from the API\")\n",
    "\n",
    "    # Define conversion factors with types\n",
    "    conversion_factors = {\n",
    "        \"miles\": {\"rate\": 1609.34, \"type\": \"length\"},\n",
    "        \"kilometers\": {\"rate\": 1000, \"type\": \"length\"},\n",
    "        \"meters\": {\"rate\": 1, \"type\": \"length\"},\n",
    "        \"centimeters\": {\"rate\": 0.01, \"type\": \"length\"},\n",
    "        \"millimeters\": {\"rate\": 0.001, \"type\": \"length\"},\n",
    "        \"inches\": {\"rate\": 0.0254, \"type\": \"length\"},\n",
    "        \"feet\": {\"rate\": 0.3048, \"type\": \"length\"},\n",
    "        \"yards\": {\"rate\": 0.9144, \"type\": \"length\"},\n",
    "        \"miles_per_hour\": {\"rate\": 0.44704, \"type\": \"speed\"},\n",
    "        \"kilometers_per_hour\": {\"rate\": 0.277778, \"type\": \"speed\"},\n",
    "        \"meters_per_second\": {\"rate\": 1, \"type\": \"speed\"},\n",
    "        \"centimeters_per_second\": {\"rate\": 0.01, \"type\": \"speed\"},\n",
    "        \"dollars\": {\"rate\": 1, \"type\": \"currency\"},\n",
    "        \"euros\": {\"rate\": eur_rate, \"type\": \"currency\"},\n",
    "        \"japanese_yen\": {\"rate\": jpy_rate, \"type\": \"currency\"},\n",
    "        \"pound_sterling\": {\"rate\": gbp_rate, \"type\": \"currency\"},\n",
    "        \"australian_dollars\": {\"rate\": aud_rate, \"type\": \"currency\"},\n",
    "        \"canadian_dollars\": {\"rate\": cad_rate, \"type\": \"currency\"},\n",
    "        \"swiss_franc\": {\"rate\": swiss_franc_rate, \"type\": \"currency\"}\n",
    "    }\n",
    "\n",
    "    # Check if the from_unit and to_unit are valid \n",
    "    if from_unit not in conversion_factors or to_unit not in conversion_factors:\n",
    "        raise ValueError('Invalid unit. Please enter a valid unit.') \n",
    "    \n",
    "    # Check if the types match\n",
    "    from_type = conversion_factors[from_unit][\"type\"]\n",
    "    to_type = conversion_factors[to_unit][\"type\"]\n",
    "    if from_type != to_type:\n",
    "        raise TypeError(f\"Cannot convert between {from_type} and {to_type}.\")\n",
    "\n",
    "    # Convert the value \n",
    "    value_in_base = value * conversion_factors[from_unit][\"rate\"]\n",
    "    #Convert the value to target unit\n",
    "    converted_value = value_in_base / conversion_factors[to_unit][\"rate\"]\n",
    "    \n",
    "    return converted_value\n",
    "\n",
    "def main():\n",
    "    try:\n",
    "        #Ask the user for the value to convert\n",
    "        value = float(input('Enter the value to convert:'))\n",
    "        #Ask the user for the unit to convert from\n",
    "        from_unit = input('Enter the unit to convert from:').strip().lower()\n",
    "        #Ask the user for the unit to convert to\n",
    "        to_unit = input('Enter the unit to convert to:').strip().lower()\n",
    "        #Convert the value\n",
    "        converted_value = convert_units(value, from_unit, to_unit)\n",
    "        #Print the result\n",
    "        print(f\"{value} {from_unit} is equal to {converted_value:.2f} {to_unit}\")\n",
    "    except ValueError as e:\n",
    "        print(f\"Error {e}. Please enter a valid input\")\n",
    "\n",
    "if __name__ == \"__main__\":\n",
    "    main()"
   ]
  },
  {
   "cell_type": "code",
   "execution_count": null,
   "metadata": {},
   "outputs": [
    {
     "name": "stdout",
     "output_type": "stream",
     "text": [
      "Taux de change USD vers EUR : 146.15\n"
     ]
    }
   ],
   "source": []
  }
 ],
 "metadata": {
  "kernelspec": {
   "display_name": "roadmap",
   "language": "python",
   "name": "python3"
  },
  "language_info": {
   "codemirror_mode": {
    "name": "ipython",
    "version": 3
   },
   "file_extension": ".py",
   "mimetype": "text/x-python",
   "name": "python",
   "nbconvert_exporter": "python",
   "pygments_lexer": "ipython3",
   "version": "3.11.11"
  }
 },
 "nbformat": 4,
 "nbformat_minor": 2
}
