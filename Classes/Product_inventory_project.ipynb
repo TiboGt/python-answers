{
 "cells": [
  {
   "cell_type": "markdown",
   "id": "c2cf85fd",
   "metadata": {},
   "source": [
    "Product Inventory Project - Create an application which manages an inventory of products. Create a product class which has a price, id, and quantity on hand. Then create an inventory class which keeps track of various products and can sum up the inventory value."
   ]
  },
  {
   "cell_type": "code",
   "execution_count": 2,
   "id": "73dc96ef",
   "metadata": {},
   "outputs": [
    {
     "name": "stdout",
     "output_type": "stream",
     "text": [
      "Total inventory value: 265.0\n"
     ]
    }
   ],
   "source": [
    "class Product:\n",
    "    def __init__(self, product_id: str, price: float, quantity: int):\n",
    "        self.id = product_id\n",
    "        self.price = price\n",
    "        self.quantity = quantity\n",
    "\n",
    "    def value(self) -> float:\n",
    "        return self.price * self.quantity\n",
    "\n",
    "\n",
    "class Inventory:\n",
    "    def __init__(self):\n",
    "        self.products = {}\n",
    "\n",
    "    def add_product(self, product: Product):\n",
    "        self.products[product.id] = product\n",
    "\n",
    "    def total_value(self) -> float:\n",
    "        return sum(p.value() for p in self.products.values())\n",
    "\n",
    "\n",
    "# Example usage\n",
    "inventory = Inventory()\n",
    "inventory.add_product(Product(\"F001\", 10.0, 5))\n",
    "inventory.add_product(Product(\"E002\", 20.0, 3))\n",
    "inventory.add_product(Product(\"D003\", 15.5, 10))\n",
    "\n",
    "print(\"Total inventory value:\", inventory.total_value())\n"
   ]
  }
 ],
 "metadata": {
  "kernelspec": {
   "display_name": "roadmap",
   "language": "python",
   "name": "python3"
  },
  "language_info": {
   "codemirror_mode": {
    "name": "ipython",
    "version": 3
   },
   "file_extension": ".py",
   "mimetype": "text/x-python",
   "name": "python",
   "nbconvert_exporter": "python",
   "pygments_lexer": "ipython3",
   "version": "3.11.11"
  }
 },
 "nbformat": 4,
 "nbformat_minor": 5
}
