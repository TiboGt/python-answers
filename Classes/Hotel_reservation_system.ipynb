{
 "cells": [
  {
   "cell_type": "markdown",
   "id": "c78d8c9f",
   "metadata": {},
   "source": [
    "Airline / Hotel Reservation System - Create a reservation system which books airline seats or hotel rooms. It charges various rates for particular sections of the plane or hotel. Example, first class is going to cost more than coach. Hotel rooms have penthouse suites which cost more. Keep track of when rooms will be available and can be scheduled."
   ]
  },
  {
   "cell_type": "code",
   "execution_count": 8,
   "id": "2176e2b4",
   "metadata": {},
   "outputs": [
    {
     "name": "stdout",
     "output_type": "stream",
     "text": [
      "Reserved Room: PH1\n",
      "Reserved Room: 101\n",
      "Reserved Room: 102\n",
      "No available standard rooms from 2025-06-01 to 2025-06-05 (Already Booked)\n"
     ]
    }
   ],
   "source": [
    "from datetime import datetime, timedelta\n",
    "\n",
    "class Room:\n",
    "    def __init__(self, room_id: str, section: str, rate: float):\n",
    "        self.room_id = room_id\n",
    "        self.section = section\n",
    "        self.rate = rate\n",
    "        self.bookings = []  # List of (start_date, end_date) tuples\n",
    "\n",
    "    def is_available(self, start_date: datetime, end_date: datetime) -> bool:\n",
    "        for booked_start, booked_end in self.bookings:\n",
    "            if not (end_date <= booked_start or start_date >= booked_end):\n",
    "                return False\n",
    "        return True\n",
    "\n",
    "    def reserve(self, start_date: datetime, end_date: datetime) -> bool:\n",
    "        if self.is_available(start_date, end_date):\n",
    "            self.bookings.append((start_date, end_date))\n",
    "            return True\n",
    "        return False\n",
    "\n",
    "\n",
    "class Hotel:\n",
    "    def __init__(self):\n",
    "        self.rooms = {}\n",
    "\n",
    "    def add_room(self, room_id: str, section: str):\n",
    "        rate = 500.0 if section.lower() == 'penthouse' else 150.0\n",
    "        self.rooms[room_id] = Room(room_id, section, rate)\n",
    "\n",
    "    def find_available_room(self, section: str, start_date: datetime, end_date: datetime):\n",
    "        for room in self.rooms.values():\n",
    "            if room.section.lower() == section.lower() and room.is_available(start_date, end_date):\n",
    "                return room\n",
    "        return None\n",
    "\n",
    "    def reserve_room(self, section: str, start_date: datetime, end_date: datetime):\n",
    "        room = self.find_available_room(section, start_date, end_date)\n",
    "        if room and room.reserve(start_date, end_date):\n",
    "            return f\"Reserved Room: {room.room_id}\"\n",
    "        return f\"No available {section} rooms from {start_date.date()} to {end_date.date()} (Already Booked)\"\n",
    "\n",
    "\n",
    "# Example usage\n",
    "hotel = Hotel()\n",
    "hotel.add_room(\"101\", \"standard\")\n",
    "hotel.add_room(\"102\", \"standard\")\n",
    "hotel.add_room(\"PH1\", \"penthouse\")\n",
    "\n",
    "check_in = datetime(2025, 6, 1)\n",
    "check_out = datetime(2025, 6, 5)\n",
    "\n",
    "print(hotel.reserve_room(\"penthouse\", check_in, check_out))\n",
    "print(hotel.reserve_room(\"standard\", check_in, check_out))\n",
    "print(hotel.reserve_room(\"standard\", check_in, check_out))\n",
    "print(hotel.reserve_room(\"standard\", check_in, check_out))  # Should trigger \"Already Booked\"\n"
   ]
  }
 ],
 "metadata": {
  "kernelspec": {
   "display_name": "roadmap",
   "language": "python",
   "name": "python3"
  },
  "language_info": {
   "codemirror_mode": {
    "name": "ipython",
    "version": 3
   },
   "file_extension": ".py",
   "mimetype": "text/x-python",
   "name": "python",
   "nbconvert_exporter": "python",
   "pygments_lexer": "ipython3",
   "version": "3.11.11"
  }
 },
 "nbformat": 4,
 "nbformat_minor": 5
}
