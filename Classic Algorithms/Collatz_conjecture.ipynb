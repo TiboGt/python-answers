{
 "cells": [
  {
   "cell_type": "markdown",
   "id": "493fef72",
   "metadata": {},
   "source": [
    "Collatz Conjecture - Start with a number n > 1. Find the number of steps it takes to reach one using the following process: If n is even, divide it by 2. If n is odd, multiply it by 3 and add 1."
   ]
  },
  {
   "cell_type": "code",
   "execution_count": null,
   "id": "fb16dff0",
   "metadata": {},
   "outputs": [
    {
     "name": "stdout",
     "output_type": "stream",
     "text": [
      "For 4545665, the steps necessary to go back to 1 is 224\n"
     ]
    }
   ],
   "source": [
    "def collatz(n):\n",
    "    #This function solves the Collatz Conjecture\n",
    "    count = 0 \n",
    "    while n != 1 :\n",
    "        if n % 2 == 0 :\n",
    "            n = n/2\n",
    "            count += 1\n",
    "        else :\n",
    "            n = n*3 + 1\n",
    "            count += 1\n",
    "    return count\n",
    "\n",
    "def main():\n",
    "    number = int(input(\"Enter the number you want to test the collatz conjecture\"))\n",
    "    steps = collatz(number)\n",
    "    print(f\"For {number}, the steps necessary to go back to 1 is {steps}\")\n",
    "\n",
    "if __name__ == \"__main__\":\n",
    "    main()"
   ]
  }
 ],
 "metadata": {
  "kernelspec": {
   "display_name": "roadmap",
   "language": "python",
   "name": "python3"
  },
  "language_info": {
   "name": "python",
   "version": "3.11.11"
  }
 },
 "nbformat": 4,
 "nbformat_minor": 5
}
