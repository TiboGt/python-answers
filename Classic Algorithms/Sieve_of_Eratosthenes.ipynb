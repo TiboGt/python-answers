{
 "cells": [
  {
   "cell_type": "markdown",
   "id": "7625368a",
   "metadata": {},
   "source": [
    "Sieve of Eratosthenes - The sieve of Eratosthenes is one of the most efficient ways to find all of the smaller primes (below 10 million or so)."
   ]
  },
  {
   "cell_type": "code",
   "execution_count": null,
   "id": "5eb825d9",
   "metadata": {},
   "outputs": [
    {
     "name": "stdout",
     "output_type": "stream",
     "text": [
      "Brut force time : 0.008775472640991211\n",
      "[2, 3, 5, 7, 11, 13, 17, 19, 23, 29, 31, 37, 41, 43, 47, 53, 59, 61, 67, 71, 73, 79, 83, 89, 97, 101, 103, 107, 109, 113, 127, 131, 137, 139, 149, 151, 157, 163, 167, 173, 179, 181, 191, 193, 197, 199, 211, 223, 227, 229, 233, 239, 241, 251, 257, 263, 269, 271, 277, 281, 283, 293, 307, 311, 313, 317, 331, 337, 347, 349, 353, 359, 367, 373, 379, 383, 389, 397, 401, 409, 419, 421, 431, 433, 439, 443, 449, 457, 461, 463, 467, 479, 487, 491, 499, 503, 509, 521, 523, 541, 547, 557, 563, 569, 571, 577, 587, 593, 599, 601, 607, 613, 617, 619, 631, 641, 643, 647, 653, 659, 661, 673, 677, 683, 691, 701, 709, 719, 727, 733, 739, 743, 751, 757, 761, 769, 773, 787, 797, 809, 811, 821, 823, 827, 829, 839, 853, 857, 859, 863, 877, 881, 883, 887, 907, 911, 919, 929, 937, 941, 947, 953, 967, 971, 977, 983, 991, 997]\n",
      "Boolean time : 0.0\n",
      "[2, 3, 5, 7, 11, 13, 17, 19, 23, 29, 31, 37, 41, 43, 47, 53, 59, 61, 67, 71, 73, 79, 83, 89, 97, 101, 103, 107, 109, 113, 127, 131, 137, 139, 149, 151, 157, 163, 167, 173, 179, 181, 191, 193, 197, 199, 211, 223, 227, 229, 233, 239, 241, 251, 257, 263, 269, 271, 277, 281, 283, 293, 307, 311, 313, 317, 331, 337, 347, 349, 353, 359, 367, 373, 379, 383, 389, 397, 401, 409, 419, 421, 431, 433, 439, 443, 449, 457, 461, 463, 467, 479, 487, 491, 499, 503, 509, 521, 523, 541, 547, 557, 563, 569, 571, 577, 587, 593, 599, 601, 607, 613, 617, 619, 631, 641, 643, 647, 653, 659, 661, 673, 677, 683, 691, 701, 709, 719, 727, 733, 739, 743, 751, 757, 761, 769, 773, 787, 797, 809, 811, 821, 823, 827, 829, 839, 853, 857, 859, 863, 877, 881, 883, 887, 907, 911, 919, 929, 937, 941, 947, 953, 967, 971, 977, 983, 991, 997]\n"
     ]
    }
   ],
   "source": [
    "\"\"\"\n",
    "Create a list of consecutive integers from 2 through n: (2, 3, 4, ..., n).\n",
    "Initially, let p equal 2, the smallest prime number.\n",
    "Enumerate the multiples of p by counting in increments of p from 2p to n, and mark them in the list (these will be 2p, 3p, 4p, ...; the p itself should not be marked).\n",
    "Find the smallest number in the list greater than p that is not marked. If there was no such number, stop. Otherwise, let p now equal this new number (which is the next prime), and repeat from step 3.\n",
    "When the algorithm terminates, the numbers remaining not marked in the list are all the primes below n.\n",
    "\"\"\"\n",
    "import time\n",
    "\n",
    "def brute_force(n):\n",
    "    #Brute force by looking at values inside the array, it takes time to create the array and to remove and append arrays\n",
    "    start = time.time()\n",
    "    liste = [i for i in range(2, n + 1)]\n",
    "    p = 2\n",
    "    marked_list = []\n",
    "\n",
    "    for i in liste :\n",
    "        for i in range(2*p, n+1, p):\n",
    "            if i in liste :\n",
    "                marked_list.append(i)\n",
    "                liste.remove(i)           \n",
    "        p+=1\n",
    "    end = time.time()\n",
    "    print(f'Brutedd force time : {end-start}')\n",
    "\n",
    "    return liste\n",
    "\n",
    "def boolean(n):\n",
    "    # Initialize boolean values inside de array\n",
    "    start = time.time()\n",
    "    \n",
    "    liste_true = [True] * (n + 1)\n",
    "    liste_true[0] = liste_true[1] = False # 0 and 1 are not prime numbers\n",
    "\n",
    "    for p in range(2, n+1): #Pass through all the array\n",
    "        if liste_true[p]: #If the value is still True \n",
    "            for j in range(2*p, n+1, p): #Enumerate the multiples of p by counting in increments of p from 2p to n\n",
    "                liste_true[j] = False\n",
    "    \n",
    "    end = time.time()\n",
    "    prime = [index for index, value in enumerate(liste_true) if value == True] #Assign numerical values to prime numbers\n",
    "\n",
    "    print(f'Boolean time : {end-start}')\n",
    "\n",
    "    return prime\n",
    "\n",
    "\n",
    "def main():\n",
    "    n = int(input('Enter value for the max limit of smile prime number'))\n",
    "    method = str(input('Would you like to use brute_force [0], boolean_tab [1] or both [2]?')).strip().lower()\n",
    "    \n",
    "    if method == '0' :\n",
    "        brute_force_tab = brute_force(n)\n",
    "        print(brute_force_tab)\n",
    "    \n",
    "    elif method == '1':\n",
    "        boolean_tab = boolean(n)\n",
    "        print(boolean_tab)\n",
    "    \n",
    "    elif method == '2':\n",
    "        brute_force_tab = brute_force(n)\n",
    "        print(brute_force_tab)\n",
    "        boolean_tab = boolean(n)\n",
    "        print(boolean_tab)\n",
    "\n",
    "    else : \n",
    "        raise ValueError('Please enter 0, 1 or 2')\n",
    "    \n",
    "if __name__ == \"__main__\":\n",
    "    main()\n"
   ]
  }
 ],
 "metadata": {
  "kernelspec": {
   "display_name": "roadmap",
   "language": "python",
   "name": "python3"
  },
  "language_info": {
   "codemirror_mode": {
    "name": "ipython",
    "version": 3
   },
   "file_extension": ".py",
   "mimetype": "text/x-python",
   "name": "python",
   "nbconvert_exporter": "python",
   "pygments_lexer": "ipython3",
   "version": "3.11.11"
  }
 },
 "nbformat": 4,
 "nbformat_minor": 5
}
