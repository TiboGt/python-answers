{
 "cells": [
  {
   "cell_type": "markdown",
   "id": "64319bbc",
   "metadata": {},
   "source": [
    "Sorting - Implement two types of sorting algorithms: Merge sort and bubble sort."
   ]
  },
  {
   "cell_type": "code",
   "execution_count": null,
   "id": "0e2152dc",
   "metadata": {},
   "outputs": [
    {
     "name": "stdout",
     "output_type": "stream",
     "text": [
      "Array : [32, 10, 3, 1, 8]\n",
      "Sorted array with merge: [1, 3, 8, 10, 32]\n",
      "Sorted array with bubble sort: [1, 3, 8, 10, 32]\n"
     ]
    }
   ],
   "source": [
    "# Define the function to split the array and recursively sort it\n",
    "def split_array(array):\n",
    "\n",
    "    \"\"\"How it works:\n",
    "\n",
    "    Divide the unsorted array into two sub-arrays, half the size of the original.\n",
    "    Continue to divide the sub-arrays as long as the current piece of the array has more than one element.\n",
    "    Merge two sub-arrays together by always putting the lowest value first.\n",
    "    Keep merging until there are no sub-arrays left.\"\"\"\n",
    "\n",
    "    # Base case: if the array has 1 or no elements, it's already sorted\n",
    "    if len(array) <= 1:\n",
    "        return array\n",
    "\n",
    "    # Find the middle index to divide the array into two halves\n",
    "    mid = len(array) // 2\n",
    "    \n",
    "    # Split the array into two halves\n",
    "    left_half = array[:mid]\n",
    "    right_half = array[mid:]\n",
    "\n",
    "    # Recursively sort both halves\n",
    "    left_sorted = split_array(left_half)\n",
    "    right_sorted = split_array(right_half)\n",
    "    \n",
    "    # Merge the sorted halves into one sorted array and return it\n",
    "    merged = merge(left_sorted, right_sorted)\n",
    "    return merged\n",
    "\n",
    "# Define the function to merge two sorted arrays\n",
    "def merge(left, right):\n",
    "    # Result array that will hold the sorted elements\n",
    "    result = []\n",
    "    # Pointers to track the current index of each array\n",
    "    i = j = 0\n",
    "\n",
    "    # Merge the two arrays by comparing elements one by one\n",
    "    while i < len(left) and j < len(right):\n",
    "        # If left[i] is smaller, append it to the result and move the left pointer\n",
    "        if left[i] < right[j]:\n",
    "            result.append(left[i])\n",
    "            i += 1\n",
    "        # If right[j] is smaller, append it to the result and move the right pointer\n",
    "        else:\n",
    "            result.append(right[j])\n",
    "            j += 1\n",
    "\n",
    "    # Once one of the arrays is exhausted, append the remaining elements from both arrays\n",
    "    result.extend(left[i:])\n",
    "    result.extend(right[j:])\n",
    "\n",
    "    # Return the merged sorted array\n",
    "    return result\n",
    "\n",
    "def bubble_sort(array):\n",
    "    \n",
    "    sorted_array = array.copy()\n",
    "    n = len(sorted_array)\n",
    "    \n",
    "    for i in range(n) :\n",
    "        for j in range(n-1):\n",
    "            if sorted_array[j] > sorted_array[j+1] :\n",
    "                sorted_array[j], sorted_array[j+1] = sorted_array[j+1], sorted_array[j]\n",
    "    return sorted_array\n",
    "\n",
    "def main():\n",
    "    sz = int(input('Enter the size of the array :'))\n",
    "    arr = [0 for i in range(sz)]\n",
    "    for i in range(sz):\n",
    "        arr[i] = int(input('Enter numerical value'))\n",
    "    print(f\"Array : {arr}\")\n",
    "    sorted_arr = split_array(arr)\n",
    "    print(f\"Sorted array with merge: {sorted_arr}\")\n",
    "    sorted_arr2 = bubble_sort(arr)\n",
    "    print(f\"Sorted array with bubble sort: {sorted_arr2}\")\n",
    "\n",
    "if __name__ == \"__main__\":\n",
    "    main()"
   ]
  }
 ],
 "metadata": {
  "kernelspec": {
   "display_name": "roadmap",
   "language": "python",
   "name": "python3"
  },
  "language_info": {
   "name": "python",
   "version": "3.11.11"
  }
 },
 "nbformat": 4,
 "nbformat_minor": 5
}
