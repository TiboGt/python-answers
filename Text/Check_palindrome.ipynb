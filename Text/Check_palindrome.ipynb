{
 "cells": [
  {
   "cell_type": "markdown",
   "id": "0f4c613f",
   "metadata": {},
   "source": [
    "Check if Palindrome - Checks if the string entered by the user is a palindrome. That is that it reads the same forwards as backwards like “racecar\""
   ]
  },
  {
   "cell_type": "code",
   "execution_count": 3,
   "id": "6eb7d1a2",
   "metadata": {},
   "outputs": [
    {
     "name": "stdout",
     "output_type": "stream",
     "text": [
      "racecar is a Palindrome\n"
     ]
    }
   ],
   "source": [
    "\"\"\"\n",
    "Checks if the string entered by the user is a palindrome\n",
    "\"\"\"\n",
    "\n",
    "def check_palindrome(st):\n",
    "    if st == st[::-1] :\n",
    "        print(f'{st} is a Palindrome')\n",
    "    else :\n",
    "        print(f'{st} is not a Palindrome')\n",
    "\n",
    "def main():\n",
    "    user_input = input('Enter the string to see if it is a palindrome')\n",
    "    check_palindrome(user_input)\n",
    "\n",
    "if __name__ == \"__main__\":\n",
    "    main()"
   ]
  }
 ],
 "metadata": {
  "kernelspec": {
   "display_name": "roadmap",
   "language": "python",
   "name": "python3"
  },
  "language_info": {
   "codemirror_mode": {
    "name": "ipython",
    "version": 3
   },
   "file_extension": ".py",
   "mimetype": "text/x-python",
   "name": "python",
   "nbconvert_exporter": "python",
   "pygments_lexer": "ipython3",
   "version": "3.11.11"
  }
 },
 "nbformat": 4,
 "nbformat_minor": 5
}
