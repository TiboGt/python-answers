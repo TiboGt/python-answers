{
 "cells": [
  {
   "cell_type": "markdown",
   "id": "bf8a79a9",
   "metadata": {
    "vscode": {
     "languageId": "plaintext"
    }
   },
   "source": [
    "Count Vowels - Enter a string and the program counts the number of vowels in the text. For added complexity have it report a sum of each vowel found."
   ]
  },
  {
   "cell_type": "code",
   "execution_count": null,
   "id": "b15e35ba",
   "metadata": {},
   "outputs": [
    {
     "name": "stdout",
     "output_type": "stream",
     "text": [
      "The is 0 vowels in the word aba\n"
     ]
    }
   ],
   "source": [
    "\"\"\"\n",
    "Enter a string and the program counts the number of vowels in the text\n",
    "\"\"\"\n",
    "\n",
    "def count_vowels(st):\n",
    "    vowels_count = 0\n",
    "    vowels = ['a','e','i','o','u','y'] #y is a vowel in french but not in english \n",
    "\n",
    "    for i in st :\n",
    "        if i in vowels :\n",
    "            vowels_count +=1\n",
    "\n",
    "    return vowels_count\n",
    "\n",
    "def main():\n",
    "    string = input('Enter a string')\n",
    "    vowels = count_vowels(string)\n",
    "    print(f'The is {vowels} vowels in the word {string}' )\n",
    "\n",
    "if __name__ == \"__main__\":\n",
    "    main()\n"
   ]
  },
  {
   "cell_type": "code",
   "execution_count": 39,
   "id": "2e44d74b",
   "metadata": {},
   "outputs": [
    {
     "name": "stdout",
     "output_type": "stream",
     "text": [
      "The vowels count for the string Hello World is :\n",
      "In e : 1\n",
      "In o : 2\n"
     ]
    }
   ],
   "source": [
    "\"\"\"\"\n",
    "Added complexity count for each vowel\n",
    "\"\"\"\n",
    "\n",
    "def count_each_vowels(st):\n",
    "    \n",
    "    vowels = 'aeiouy'\n",
    "    count = {vowel: st.count(vowel) for vowel in vowels} #Create a dictionary with each vowels and count the number of vowel in the string \n",
    "\n",
    "    print(f\"The vowels count for the string {st} is :\")\n",
    "    for key, value in count.items() :\n",
    "        if value != 0:\n",
    "            print(f'In {key} : {value}')\n",
    "\n",
    "def main():\n",
    "\n",
    "    string = input()\n",
    "    count_each_vowels(string)\n",
    "\n",
    "if __name__ == \"__main__\":\n",
    "    main()"
   ]
  }
 ],
 "metadata": {
  "kernelspec": {
   "display_name": "roadmap",
   "language": "python",
   "name": "python3"
  },
  "language_info": {
   "codemirror_mode": {
    "name": "ipython",
    "version": 3
   },
   "file_extension": ".py",
   "mimetype": "text/x-python",
   "name": "python",
   "nbconvert_exporter": "python",
   "pygments_lexer": "ipython3",
   "version": "3.11.11"
  }
 },
 "nbformat": 4,
 "nbformat_minor": 5
}
