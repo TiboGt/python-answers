{
 "cells": [
  {
   "cell_type": "markdown",
   "id": "4d949b31",
   "metadata": {},
   "source": [
    "Pig Latin - Pig Latin is a game of alterations played on the English language game. To create the Pig Latin form of an English word the initial consonant sound is transposed to the end of the word and an ay is affixed (Ex.: \"banana\" would yield anana-bay). Read Wikipedia for more information on rules."
   ]
  },
  {
   "cell_type": "code",
   "execution_count": 93,
   "id": "b91e3c14",
   "metadata": {},
   "outputs": [
    {
     "name": "stdout",
     "output_type": "stream",
     "text": [
      "ox-bay\n"
     ]
    }
   ],
   "source": [
    "def count_vowels(text):\n",
    "    \"\"\" Count the number of vowels in a given text \"\"\"\n",
    "    vowels_count = 0\n",
    "    vowels = ['a','e','i','o','u'] #no y because pig latin is coded for english\n",
    "    \n",
    "    for char in text :\n",
    "        if char in vowels :\n",
    "            vowels_count +=1\n",
    "\n",
    "    return vowels_count\n",
    "\n",
    "\n",
    "def pig_latin(word):\n",
    "    \"\"\"Convert a word to Pig Latin\"\"\"\n",
    "    word = word.lower()\n",
    "    vowel_count = count_vowels(word)\n",
    "    latin_word = []\n",
    "    consonant = []\n",
    "\n",
    "    if vowel_count == 0 : \n",
    "        latin_word = word + '-ay'\n",
    "        print(f'No vowels : {word} = {latin_word}')\n",
    "    elif count_vowels(word[0]) == 1 :\n",
    "        latin_word = word + '-yay'\n",
    "        print(f\"Fist letter is vowel : {word} = {latin_word}\")\n",
    "    else :\n",
    "        for char in word :\n",
    "            v = count_vowels(char)        \n",
    "            if count_vowels(char) == 0 :\n",
    "                consonant.append(char)       \n",
    "            else :\n",
    "                break\n",
    "        \n",
    "        group = ''.join(consonant)        \n",
    "        latin_word_replaced = word.replace(group,'')\n",
    "        latin_word_concat = latin_word_replaced + '-' + group + 'ay'\n",
    "        print(latin_word_concat)\n",
    "                \n",
    "\n",
    "def main():\n",
    "    str_in = input('Enter the word to use pig latin on :')\n",
    "    pig_latin(str_in)\n",
    "\n",
    "if __name__ == \"__main__\" :\n",
    "    main()"
   ]
  }
 ],
 "metadata": {
  "kernelspec": {
   "display_name": "roadmap",
   "language": "python",
   "name": "python3"
  },
  "language_info": {
   "codemirror_mode": {
    "name": "ipython",
    "version": 3
   },
   "file_extension": ".py",
   "mimetype": "text/x-python",
   "name": "python",
   "nbconvert_exporter": "python",
   "pygments_lexer": "ipython3",
   "version": "3.11.11"
  }
 },
 "nbformat": 4,
 "nbformat_minor": 5
}
