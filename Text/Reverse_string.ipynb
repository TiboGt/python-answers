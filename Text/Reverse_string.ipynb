{
 "cells": [
  {
   "cell_type": "markdown",
   "id": "b8982ec5",
   "metadata": {},
   "source": [
    "Reverse a String - Enter a string and the program will reverse it and print it out."
   ]
  },
  {
   "cell_type": "code",
   "execution_count": 11,
   "id": "bb0a1862",
   "metadata": {},
   "outputs": [
    {
     "name": "stdout",
     "output_type": "stream",
     "text": [
      "String to reverse : ahze\n",
      "Reversed string : ezha\n"
     ]
    }
   ],
   "source": [
    "def reverse_string(s):\n",
    "    print(f'Reversed string :', s[::-1])\n",
    "\n",
    "def main():\n",
    "    s = input('Enter the string to reverse')\n",
    "    print(f'String to reverse : {s}')\n",
    "    reverse_string(s)\n",
    "\n",
    "if __name__ == \"__main__\":\n",
    "    main()"
   ]
  }
 ],
 "metadata": {
  "kernelspec": {
   "display_name": "roadmap",
   "language": "python",
   "name": "python3"
  },
  "language_info": {
   "codemirror_mode": {
    "name": "ipython",
    "version": 3
   },
   "file_extension": ".py",
   "mimetype": "text/x-python",
   "name": "python",
   "nbconvert_exporter": "python",
   "pygments_lexer": "ipython3",
   "version": "3.11.11"
  }
 },
 "nbformat": 4,
 "nbformat_minor": 5
}
