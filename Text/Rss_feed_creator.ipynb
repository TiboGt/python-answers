{
 "cells": [
  {
   "cell_type": "markdown",
   "id": "38721cfc",
   "metadata": {},
   "source": [
    "RSS Feed Creator - Given a link to RSS/Atom Feed, get all posts and display them."
   ]
  },
  {
   "cell_type": "code",
   "execution_count": 15,
   "id": "f05dac03",
   "metadata": {},
   "outputs": [
    {
     "name": "stdout",
     "output_type": "stream",
     "text": [
      "No feed to display for \n"
     ]
    }
   ],
   "source": [
    "import feedparser\n",
    "def display_feed(feed_url = \"https://xkcd.com/rss.xml\"):\n",
    "    \"\"\"Display feed of the fiven rss url\"\"\"\n",
    "\n",
    "    feed = feedparser.parse(feed_url)\n",
    "    \n",
    "    if feed.bozo or not feed.entries :\n",
    "        print(f'No feed to display for {feed_url}')\n",
    "        return\n",
    "    \n",
    "    print(f\"Flux title: {feed.feed.get('title', 'Untitled')}\")\n",
    "    print(\"=\" * 50)\n",
    "\n",
    "    for entry in feed.entries:\n",
    "        print(f\"Title : {entry.get('title', 'Untitled')}\")\n",
    "        print(f\"Link : {entry.get('link', 'Unlinked')}\")\n",
    "        print(f\"Date : {entry.get('published', 'Undated ')}\")\n",
    "        print(\"-\" * 30)\n",
    "\n",
    "\n",
    "def main():\n",
    "    rss_url = input('Enter the rss/atom url')    \n",
    "    display_feed(rss_url)\n",
    "\n",
    "if __name__ == \"__main__\":\n",
    "    main()"
   ]
  }
 ],
 "metadata": {
  "kernelspec": {
   "display_name": "roadmap",
   "language": "python",
   "name": "python3"
  },
  "language_info": {
   "codemirror_mode": {
    "name": "ipython",
    "version": 3
   },
   "file_extension": ".py",
   "mimetype": "text/x-python",
   "name": "python",
   "nbconvert_exporter": "python",
   "pygments_lexer": "ipython3",
   "version": "3.11.11"
  }
 },
 "nbformat": 4,
 "nbformat_minor": 5
}
