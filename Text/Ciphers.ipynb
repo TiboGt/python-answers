{
 "cells": [
  {
   "cell_type": "markdown",
   "id": "206f061f",
   "metadata": {},
   "source": [
    "Vigenere / Vernam / Ceasar Ciphers - Functions for encrypting and decrypting data messages. Then send them to a friend.\n"
   ]
  },
  {
   "cell_type": "code",
   "execution_count": 5,
   "id": "eebd81fb",
   "metadata": {},
   "outputs": [
    {
     "name": "stdout",
     "output_type": "stream",
     "text": [
      "User input bisous, user_shift 12, encrypted_output : nueage\n"
     ]
    }
   ],
   "source": [
    "def caesar_cipher(user_input, shift):\n",
    "    \"\"\" Shift the user_input by the specified value \"\"\"\n",
    "    cipher_output = []\n",
    "    for char in user_input:\n",
    "        if char.islower() :\n",
    "            index = (ord(char)-ord('a')+shift)%26\n",
    "            cipher_char = chr(index + ord('a'))\n",
    "            cipher_output.append(cipher_char)\n",
    "        elif char.isupper():\n",
    "            index = (ord(char)-ord('A')+shift)%26\n",
    "            cipher_char = chr(index+ord('A'))\n",
    "            cipher_output.append(cipher_char)\n",
    "        else:\n",
    "            cipher_output.append(char)\n",
    "\n",
    "    x = ''.join(cipher_output)\n",
    "    return x\n",
    "\n",
    "def main():\n",
    "    user_input = input('Enter the string you want to encrypt')\n",
    "    user_shift = int(input('Enter the shift value'))\n",
    "    encrypted_output = caesar_cipher(user_input, user_shift)\n",
    "    print(f\"User input {user_input}, user_shift {user_shift}, encrypted_output : {encrypted_output}\")\n",
    "\n",
    "if __name__ == \"__main__\":\n",
    "    main()\n"
   ]
  },
  {
   "cell_type": "code",
   "execution_count": 55,
   "id": "d052e519",
   "metadata": {},
   "outputs": [
    {
     "name": "stdout",
     "output_type": "stream",
     "text": [
      "User input ^^abce32, key : ^^naam32, encrypted_text: ^^nbci32\n"
     ]
    }
   ],
   "source": [
    "import random\n",
    "def vernam_cipher(user_input, shift):\n",
    "    \n",
    "    vernam = []\n",
    "\n",
    "    if len(user_input) != len(shift) :\n",
    "        print('Key not valid')\n",
    "\n",
    "    for i in range(len(user_input)):\n",
    "        \n",
    "        if user_input[i].islower():\n",
    "\n",
    "            a = ord(user_input[i])-ord('a')\n",
    "            b = ord(shift[i])-ord('a')\n",
    "            xor = a ^ b\n",
    "            xor = (a ^ b) % 26\n",
    "            vernam_char = chr(xor + ord('a'))\n",
    "            vernam.append(vernam_char)\n",
    "    \n",
    "        elif user_input[i].isupper():\n",
    "\n",
    "            a = ord(user_input[i])-ord('A')\n",
    "            b = ord(shift[i])-ord('A')\n",
    "            xor = a ^ b\n",
    "            xor = (a ^ b) % 26\n",
    "            vernam_char = chr(xor + ord('A'))\n",
    "            vernam.append(vernam_char)    \n",
    "        \n",
    "        else:\n",
    "            vernam_char = user_input[i]\n",
    "            vernam.append(vernam_char)\n",
    "\n",
    "\n",
    "    ciphered_str = ''.join(vernam)\n",
    "    return ciphered_str\n",
    "\n",
    "\n",
    "def generate_key(user_input):\n",
    "    \n",
    "    key = []\n",
    "\n",
    "    for char in user_input: \n",
    "        if char.islower():\n",
    "            key.append(random.choice('abcdefghijklmnopqrstuvwxyz'))\n",
    "        elif char.isupper() :\n",
    "            key.append(random.choice('ABCDEFGHIJKLMNOPQRSTUVWXYZ'))\n",
    "        else:\n",
    "            key.append(char)\n",
    "\n",
    "    return ''.join(key)\n",
    "\n",
    "def main():\n",
    "    user_input = input('Enter the string to encrypt')\n",
    "    key = generate_key(user_input)\n",
    "    encrypted_text = vernam_cipher(user_input, key)\n",
    "    print(f\"User input {user_input}, key : {key}, encrypted_text: {encrypted_text}\")\n",
    "\n",
    "if __name__ == \"__main__\":\n",
    "    main()"
   ]
  }
 ],
 "metadata": {
  "kernelspec": {
   "display_name": "roadmap",
   "language": "python",
   "name": "python3"
  },
  "language_info": {
   "codemirror_mode": {
    "name": "ipython",
    "version": 3
   },
   "file_extension": ".py",
   "mimetype": "text/x-python",
   "name": "python",
   "nbconvert_exporter": "python",
   "pygments_lexer": "ipython3",
   "version": "3.11.11"
  }
 },
 "nbformat": 4,
 "nbformat_minor": 5
}
