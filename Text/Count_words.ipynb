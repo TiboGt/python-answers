{
 "cells": [
  {
   "cell_type": "markdown",
   "id": "3bd97c63",
   "metadata": {},
   "source": [
    "Count Words in a String - Counts the number of individual words in a string. For added complexity read these strings in from a text file and generate a summary."
   ]
  },
  {
   "cell_type": "code",
   "execution_count": 8,
   "id": "c72395bc",
   "metadata": {},
   "outputs": [
    {
     "name": "stdout",
     "output_type": "stream",
     "text": [
      "In the file test_file there are 6 words\n"
     ]
    }
   ],
   "source": [
    "from pathlib import Path\n",
    "def read_file(file_path):\n",
    "    \"\"\"Read a file using the file path\"\"\"\n",
    "    \n",
    "    file = open(file_path, \"r\")\n",
    "    return file\n",
    "def count_word_file(file):\n",
    "    \"\"\"Count words in the txt file\"\"\"\n",
    "    \n",
    "    word_count= 0\n",
    "    for line in file:\n",
    "        word_line_count = len(line.split())\n",
    "        word_count += word_line_count  \n",
    "    return word_count\n",
    "\n",
    "def simple_string_count(string):\n",
    "    \"\"\" Count the number of words in a single string \"\"\"\n",
    "    words_number = len(string.split())\n",
    "    print(f\"There are {words_number} in this string\")\n",
    "\n",
    "def main():\n",
    "    method = input(\"Choose a type of variable you want to count words for string [0] or file [1]:\")\n",
    "    \n",
    "    if method == '0' :\n",
    "        user_string = input(\"Type the string :\")\n",
    "        simple_string_count(user_string)\n",
    "    \n",
    "    else :\n",
    "        file_path = r\"test_file.txt\" #This path will be changed by the user\n",
    "        try: \n",
    "            file = read_file(file_path)\n",
    "            word_count = count_word_file(file)\n",
    "            file_name = Path(file_path).stem\n",
    "            print(f\"In the file {file_name} there are {word_count} words\")\n",
    "        except FileNotFoundError :\n",
    "            print(f\"Error: the file '{file_path} does not exist.\")\n",
    "\n",
    "if __name__ == \"__main__\":\n",
    "    main()"
   ]
  }
 ],
 "metadata": {
  "kernelspec": {
   "display_name": "roadmap",
   "language": "python",
   "name": "python3"
  },
  "language_info": {
   "codemirror_mode": {
    "name": "ipython",
    "version": 3
   },
   "file_extension": ".py",
   "mimetype": "text/x-python",
   "name": "python",
   "nbconvert_exporter": "python",
   "pygments_lexer": "ipython3",
   "version": "3.11.11"
  }
 },
 "nbformat": 4,
 "nbformat_minor": 5
}
