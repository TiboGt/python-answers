{
 "cells": [
  {
   "cell_type": "markdown",
   "id": "f57f2c32",
   "metadata": {},
   "source": [
    "Find PI to the Nth Digit - Enter a number and have the program generate PI up to that many decimal places. Keep a limit to how far the program will go."
   ]
  },
  {
   "cell_type": "code",
   "execution_count": null,
   "id": "a8288e35",
   "metadata": {},
   "outputs": [
    {
     "name": "stdout",
     "output_type": "stream",
     "text": [
      "PI to 5 decimal places is: \n",
      "3.14159\n"
     ]
    }
   ],
   "source": [
    "from mpmath import mp\n",
    "\n",
    "def compute_pi_to_nth_digit(n):\n",
    "    # Set the precision to n+1 to ensure the nth digit is accurate\n",
    "    mp.dps = n + 1\n",
    "    # Compute PI with the set precision\n",
    "    pi_value = mp.pi\n",
    "    return pi_value\n",
    "\n",
    "def main():\n",
    "    try:\n",
    "        #Ask the user for the number of decimal places\n",
    "        n = int(input(\"Enter the number of decimal places for PI:\"))\n",
    "        if n < 1:\n",
    "            raise ValueError(\"The number of decimal places must be a postive integer\")\n",
    "        if n >= 50:\n",
    "            raise ValueError(\"The number of decimal should be lower than 50\")\n",
    "        \n",
    "        # Compute PI to the Nth decimal place\n",
    "        pi_value = compute_pi_to_nth_digit(n)\n",
    "        print(f\"PI to {n} decimal places is: \\n{pi_value}\")\n",
    "    \n",
    "    except ValueError as ve:\n",
    "        print(f\"Invalid input: {ve}\")\n",
    "\n",
    "if __name__ == \"__main__\":\n",
    "    main()"
   ]
  }
 ],
 "metadata": {
  "kernelspec": {
   "display_name": "roadmap",
   "language": "python",
   "name": "python3"
  },
  "language_info": {
   "name": "python",
   "version": "3.11.11"
  }
 },
 "nbformat": 4,
 "nbformat_minor": 5
}
