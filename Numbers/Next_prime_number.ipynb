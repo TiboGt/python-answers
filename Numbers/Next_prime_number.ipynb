{
 "cells": [
  {
   "cell_type": "markdown",
   "id": "b0c02588",
   "metadata": {},
   "source": [
    "Next Prime Number - Have the program find prime numbers until the user chooses to stop asking for the next one."
   ]
  },
  {
   "cell_type": "code",
   "execution_count": 1,
   "id": "8679e3cf",
   "metadata": {},
   "outputs": [
    {
     "name": "stdout",
     "output_type": "stream",
     "text": [
      "The first prime number is 2, would you like to print others ?\n",
      "Next prime number is: 3\n",
      "Next prime number is: 5\n",
      "Next prime number is: 7\n",
      "Next prime number is: 11\n"
     ]
    }
   ],
   "source": [
    "def is_prime(num):\n",
    "    # Helper function to check if a number is prime\n",
    "    if num <= 1:\n",
    "        return False\n",
    "    for i in range (2, num):\n",
    "        if num % i == 0:\n",
    "            return False\n",
    "    return True\n",
    "\n",
    "def main():\n",
    "    try:\n",
    "        # Prime number\n",
    "        n = 2\n",
    "        #Count \n",
    "        print(\"The first prime number is 2, would you like to print others ?\")\n",
    "        user_input = input(\"Continue ? [Y/?N]\").strip().lower()\n",
    "\n",
    "        while user_input.lower() != \"n\" :\n",
    "            n += 1\n",
    "\n",
    "            while not is_prime(n):\n",
    "                n += 1\n",
    "\n",
    "            print(f\"Next prime number is: {n}\")\n",
    "\n",
    "            user_input = input(\"Continue ? [Y/?N]\").strip().lower()\n",
    "            \n",
    "    except ValueError:\n",
    "        print(\"please_enter_valid_input\")\n",
    "\n",
    "if __name__ == \"__main__\":\n",
    "    main()"
   ]
  }
 ],
 "metadata": {
  "kernelspec": {
   "display_name": "roadmap",
   "language": "python",
   "name": "python3"
  },
  "language_info": {
   "codemirror_mode": {
    "name": "ipython",
    "version": 3
   },
   "file_extension": ".py",
   "mimetype": "text/x-python",
   "name": "python",
   "nbconvert_exporter": "python",
   "pygments_lexer": "ipython3",
   "version": "3.11.11"
  }
 },
 "nbformat": 4,
 "nbformat_minor": 5
}
