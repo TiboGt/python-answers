{
 "cells": [
  {
   "cell_type": "markdown",
   "id": "b2b424bf",
   "metadata": {},
   "source": [
    "Change Return Program - The user enters a cost and then the amount of money given. The program will figure out the change and the number of quarters, dimes, nickels, pennies needed for the change"
   ]
  },
  {
   "cell_type": "code",
   "execution_count": null,
   "id": "13fdb9e7",
   "metadata": {},
   "outputs": [
    {
     "name": "stdout",
     "output_type": "stream",
     "text": [
      "Cost: 122.25$\n",
      "Paid: 122.10$\n",
      "Error The amount paid is less than the cost. Please enter valid input\n"
     ]
    }
   ],
   "source": [
    "# Notes  1 penny = 0.01$, 1 nickel = 0.05$, 1 dime = 0.10$, 1 quarter = 0.25$\n",
    "def calculate_change(change):\n",
    "    # Calculate the number of each coin type needed for the change\n",
    "    change_cents = round(change*100) # Convert to cents\n",
    "    coins = {\n",
    "        \"quarters\": 25,\n",
    "        \"dimes\": 10,\n",
    "        \"nickels\": 5,\n",
    "        \"pennies\": 1\n",
    "    }\n",
    "    coin_count = {}\n",
    "    for coin, value in coins.items():\n",
    "        # Calculate the number of coins of this type needed\n",
    "        count = change_cents // value\n",
    "        # Update the remaining change\n",
    "        change_cents -= count * value\n",
    "        # Store the count of coins in the dictionary\n",
    "        if count > 0:\n",
    "            coin_count[coin] = int(count)\n",
    "    return coin_count\n",
    "def main():\n",
    "    try:\n",
    "        # Ask the user for the cost\n",
    "        cost = float(input(\"Enter the cost of the item: \"))\n",
    "        print(f\"Cost: {cost:.2f}$\")\n",
    "        # Ask the user for the amount paid\n",
    "        paid = float(input(\"Enter the amount paid:\"))\n",
    "        print(f\"Paid: {paid:.2f}$\")\n",
    "        # Calculate the change\n",
    "        change = paid - cost\n",
    "        if change < 0:\n",
    "            raise ValueError(\"The amount paid is less than the cost\")\n",
    "        else:\n",
    "            print(f\"Change to be returned: {change:.2f}\")\n",
    "            #Calculate the change in coins\n",
    "            coins = calculate_change(change)\n",
    "            print(\"Change in coins:\")\n",
    "            for coin, count in coins.items():\n",
    "                print(f\"{count} {coin}\")\n",
    "    \n",
    "    except ValueError as e:\n",
    "        print(f\"Error {e}. Please enter valid input\")\n",
    "\n",
    "if __name__ == \"__main__\":\n",
    "    main()\n"
   ]
  }
 ],
 "metadata": {
  "kernelspec": {
   "display_name": "roadmap",
   "language": "python",
   "name": "python3"
  },
  "language_info": {
   "name": "python",
   "version": "3.11.11"
  }
 },
 "nbformat": 4,
 "nbformat_minor": 5
}
