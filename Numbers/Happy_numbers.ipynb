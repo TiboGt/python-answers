{
 "cells": [
  {
   "cell_type": "markdown",
   "id": "e248ba6f",
   "metadata": {},
   "source": [
    "Happy Numbers - A happy number is defined by the following process. Starting with any positive integer, replace the number by the sum of the squares of its digits, and repeat the process until the number equals 1 (where it will stay), or it loops endlessly in a cycle which does not include 1. Those numbers for which this process ends in 1 are happy numbers, while those that do not end in 1 are unhappy numbers. Display an example of your output here. Find first 8 happy numbers."
   ]
  },
  {
   "cell_type": "code",
   "execution_count": null,
   "id": "7f6f36bb",
   "metadata": {},
   "outputs": [
    {
     "name": "stdout",
     "output_type": "stream",
     "text": [
      "For starting point 1 and 8 loop, the happy numbers are: [1, 7, 10, 13, 19, 23, 28, 31]\n"
     ]
    }
   ],
   "source": [
    "def happy_number(starting_point, loop_for):\n",
    "    starting_point = 1\n",
    "    happy_number = []\n",
    "    while len(happy_number) < loop_for :\n",
    "        original_number = starting_point\n",
    "        tab = []\n",
    "        sum = 0\n",
    "        while sum != 1 :\n",
    "            #Splitting the number entering the loop        \n",
    "            numb_list = list(str(starting_point))\n",
    "            sum = 0\n",
    "            for i in numb_list :\n",
    "                #Add each square digits of the number\n",
    "                sqr = int(i)**2\n",
    "                sum = sum + sqr\n",
    "            if sum not in tab :\n",
    "                #Check if the we haven't seen the sum before so it doesn't loop endlessly\n",
    "                tab.append(sum)\n",
    "            else :\n",
    "                # print(f\" {original_number} will loop endlessly\")\n",
    "                break\n",
    "            starting_point = sum\n",
    "        if sum == 1 : \n",
    "            #Register the happy number\n",
    "            happy_number.append(original_number)\n",
    "        \n",
    "        starting_point = original_number + 1\n",
    "    \n",
    "    return happy_number\n",
    "\n",
    "def main():\n",
    "    starting_point = int(input(\"From where do you want to check for happy numbers ?:\"))\n",
    "    loop_for = int(input(\"How many happy number would you like to retrieve ?:\"))\n",
    "    happy_numbers = happy_number(starting_point, loop_for)\n",
    "    print(f\"For starting point {starting_point} and {loop_for} loop, the happy numbers are:\", happy_numbers)\n",
    "\n",
    "if __name__ == \"__main__\":\n",
    "    main()"
   ]
  }
 ],
 "metadata": {
  "language_info": {
   "name": "python"
  }
 },
 "nbformat": 4,
 "nbformat_minor": 5
}
