{
 "cells": [
  {
   "cell_type": "markdown",
   "id": "f2778ae8",
   "metadata": {},
   "source": [
    "Unit Converter (temp, currency, volume, mass and more) - Converts various units between one another.  The user enters the type of unit being entered, the type of unit they want to convert to and then the value. The program will then make the conversion."
   ]
  },
  {
   "cell_type": "code",
   "execution_count": null,
   "id": "40b33f48",
   "metadata": {},
   "outputs": [
    {
     "name": "stdout",
     "output_type": "stream",
     "text": [
      "80.0 dollars is equal to 88.40 euros\n"
     ]
    }
   ],
   "source": [
    "# This program creates a unit converter\n",
    "\n",
    "import requests\n",
    "\n",
    "\n",
    "\n",
    "def convert_units(value, from_unit, to_unit):\n",
    "    # URL de l'API pour obtenir le taux de change actuel entre le dollar et l'euro\n",
    "    url = \"https://api.exchangerate-api.com/v4/latest/USD\"\n",
    "\n",
    "    # Faire une requête GET à l'API\n",
    "    response = requests.get(url)\n",
    "\n",
    "    # Vérifier si la requête a réussi\n",
    "    if response.status_code == 200:\n",
    "        # Extraire les données JSON de la réponse\n",
    "        data = response.json()\n",
    "        # Obtenir le taux de change pour l'euro\n",
    "        eur_rate = data['rates']['EUR']\n",
    "        jpy_rate = data['rates']['JPY']\n",
    "        gbp_rate = data['rates']['GBP']\n",
    "        aud_rate = data['rates']['AUD']\n",
    "        cad_rate = data['rates']['CAD']\n",
    "        swiss_franc_rate = data['rates']['CHF']\n",
    "    else :\n",
    "        raise ValueError(\"Failed to retrieve exchenge rates from the API\")\n",
    "\n",
    "    # Define conversion factors with types\n",
    "    conversion_factors = {\n",
    "        \"miles\": {\"rate\": 1609.34, \"type\": \"length\"},\n",
    "        \"kilometers\": {\"rate\": 1000, \"type\": \"length\"},\n",
    "        \"meters\": {\"rate\": 1, \"type\": \"length\"},\n",
    "        \"centimeters\": {\"rate\": 0.01, \"type\": \"length\"},\n",
    "        \"millimeters\": {\"rate\": 0.001, \"type\": \"length\"},\n",
    "        \"inches\": {\"rate\": 0.0254, \"type\": \"length\"},\n",
    "        \"feet\": {\"rate\": 0.3048, \"type\": \"length\"},\n",
    "        \"yards\": {\"rate\": 0.9144, \"type\": \"length\"},\n",
    "        \"miles_per_hour\": {\"rate\": 0.44704, \"type\": \"speed\"},\n",
    "        \"kilometers_per_hour\": {\"rate\": 0.277778, \"type\": \"speed\"},\n",
    "        \"meters_per_second\": {\"rate\": 1, \"type\": \"speed\"},\n",
    "        \"centimeters_per_second\": {\"rate\": 0.01, \"type\": \"speed\"},\n",
    "        \"dollars\": {\"rate\": 1, \"type\": \"currency\"},\n",
    "        \"euros\": {\"rate\": eur_rate, \"type\": \"currency\"},\n",
    "        \"japanese_yen\": {\"rate\": jpy_rate, \"type\": \"currency\"},\n",
    "        \"pound_sterling\": {\"rate\": gbp_rate, \"type\": \"currency\"},\n",
    "        \"australian_dollars\": {\"rate\": aud_rate, \"type\": \"currency\"},\n",
    "        \"canadian_dollars\": {\"rate\": cad_rate, \"type\": \"currency\"},\n",
    "        \"swiss_franc\": {\"rate\": swiss_franc_rate, \"type\": \"currency\"}\n",
    "    }\n",
    "\n",
    "    # Check if the from_unit and to_unit are valid \n",
    "    if from_unit not in conversion_factors or to_unit not in conversion_factors:\n",
    "        raise ValueError('Invalid unit. Please enter a valid unit.') \n",
    "    \n",
    "    # Check if the types match\n",
    "    from_type = conversion_factors[from_unit][\"type\"]\n",
    "    to_type = conversion_factors[to_unit][\"type\"]\n",
    "    if from_type != to_type:\n",
    "        raise TypeError(f\"Cannot convert between {from_type} and {to_type}.\")\n",
    "\n",
    "    # Convert the value \n",
    "    value_in_base = value * conversion_factors[from_unit][\"rate\"]\n",
    "    #Convert the value to target unit\n",
    "    converted_value = value_in_base / conversion_factors[to_unit][\"rate\"]\n",
    "    \n",
    "    return converted_value\n",
    "\n",
    "def main():\n",
    "    try:\n",
    "        #Ask the user for the value to convert\n",
    "        value = float(input('Enter the value to convert:'))\n",
    "        #Ask the user for the unit to convert from\n",
    "        from_unit = input('Enter the unit to convert from:').strip().lower()\n",
    "        #Ask the user for the unit to convert to\n",
    "        to_unit = input('Enter the unit to convert to:').strip().lower()\n",
    "        #Convert the value\n",
    "        converted_value = convert_units(value, from_unit, to_unit)\n",
    "        #Print the result\n",
    "        print(f\"{value} {from_unit} is equal to {converted_value:.2f} {to_unit}\")\n",
    "    except ValueError as e:\n",
    "        print(f\"Error {e}. Please enter a valid input\")\n",
    "\n",
    "if __name__ == \"__main__\":\n",
    "    main()"
   ]
  }
 ],
 "metadata": {
  "kernelspec": {
   "display_name": "roadmap",
   "language": "python",
   "name": "python3"
  },
  "language_info": {
   "name": "python",
   "version": "3.11.11"
  }
 },
 "nbformat": 4,
 "nbformat_minor": 5
}
