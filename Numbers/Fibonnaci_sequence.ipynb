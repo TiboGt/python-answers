{
 "cells": [
  {
   "cell_type": "markdown",
   "id": "c46ccdc0",
   "metadata": {},
   "source": [
    "Fibonacci Sequence - Enter a number and have the program generate the Fibonacci sequence to that number or to the Nth number."
   ]
  },
  {
   "cell_type": "code",
   "execution_count": null,
   "id": "60c49fce",
   "metadata": {},
   "outputs": [
    {
     "name": "stdout",
     "output_type": "stream",
     "text": [
      "0\n",
      "1\n",
      "1\n",
      "2\n",
      "3\n"
     ]
    }
   ],
   "source": [
    "def fibonnaci(n):\n",
    "    # Create de fibonnaci sequence\n",
    "    if n <=1:\n",
    "        return n\n",
    "    else:\n",
    "        return fibonnaci(n-1) + fibonnaci(n-2)\n",
    "    \n",
    "def main():\n",
    "    try:\n",
    "        #Ask the user for the number of fibonnaci numbers to print\n",
    "        n = int(input(\"How many fibonnaci numbers do you want to print? \"))\n",
    "        # Print the fibonnaci numbers\n",
    "        for i in range(n):\n",
    "            print(fibonnaci(i))\n",
    "    except ValueError:\n",
    "        print(\"Please enter a number.\")\n",
    "\n",
    "if __name__ == \"__main__\":\n",
    "    main()"
   ]
  }
 ],
 "metadata": {
  "kernelspec": {
   "display_name": "roadmap",
   "language": "python",
   "name": "python3"
  },
  "language_info": {
   "name": "python",
   "version": "3.11.11"
  }
 },
 "nbformat": 4,
 "nbformat_minor": 5
}
