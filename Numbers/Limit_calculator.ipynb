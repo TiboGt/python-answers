{
 "cells": [
  {
   "cell_type": "markdown",
   "id": "3f1892e3",
   "metadata": {},
   "source": [
    "Limit Calculator - Ask the user to enter f(x) and the limit value, then return the value of the limit statement Optional: Make the calculator capable of supporting infinite limits"
   ]
  },
  {
   "cell_type": "code",
   "execution_count": null,
   "id": "a18bf464",
   "metadata": {},
   "outputs": [
    {
     "name": "stdout",
     "output_type": "stream",
     "text": [
      "lim_{ x → oo } (x + 1)/(x - 1) = 1\n"
     ]
    }
   ],
   "source": [
    "#Create a calculator capable of returning f(x) limit it doesn't handle trigonometric functions\n",
    "import sympy as sp\n",
    "\n",
    "x = sp.symbols('x')\n",
    "\n",
    "def calculate_limit(f, max_lim):\n",
    "    if max_lim == 'oo':\n",
    "        max_lim = sp.oo\n",
    "    elif max_lim == '-oo':\n",
    "        max_lim = -sp.oo\n",
    "    else:\n",
    "        max_lim = float(max_lim)\n",
    "    limit_result = sp.limit(f, x, max_lim)\n",
    "    return limit_result\n",
    "\n",
    "def main():\n",
    "    f = input('Enter the function f(x) as (x+1)/(x-1): ')\n",
    "    limit = input('Enter the limit for this function (infinity = oo, negative infinity = -oo): ')\n",
    "\n",
    "    # Convert the input string to a SymPy expression\n",
    "    f = sp.sympify(f)\n",
    "\n",
    "    limit_result = calculate_limit(f, limit)\n",
    "\n",
    "    # Pretty print the result\n",
    "    sp.pprint(f\"lim_{{ {x} → {limit} }} {f} = {limit_result}\")\n",
    "\n",
    "if __name__ == \"__main__\":\n",
    "    main()"
   ]
  },
  {
   "cell_type": "code",
   "execution_count": null,
   "id": "26f65b4e",
   "metadata": {},
   "outputs": [
    {
     "name": "stdout",
     "output_type": "stream",
     "text": [
      "Limit Expression and Result:\n",
      "\n",
      "     ⎛x + 1⎞    \n",
      " lim ⎜─────⎟ = ∞\n",
      "x─→1⁺⎝x - 1⎠    \n"
     ]
    }
   ],
   "source": [
    "import sympy as sp\n",
    "\n",
    "# Initialize pretty printing\n",
    "sp.init_printing()\n",
    "\n",
    "x = sp.symbols('x')\n",
    "\n",
    "def calculate_limit(expr_str, max_lim_str):\n",
    "    # Convert string expression into sympy expression\n",
    "    f = sp.sympify(expr_str)\n",
    "\n",
    "    # Convert the limit value\n",
    "    max_lim = sp.sympify(max_lim_str)\n",
    "\n",
    "    # Create Limit object for pretty display\n",
    "    limit_expr = sp.Limit(f, x, max_lim)\n",
    "    limit_result = sp.limit(f, x, max_lim)\n",
    "\n",
    "    return limit_expr, limit_result\n",
    "\n",
    "def main():\n",
    "    f_str = input(\"Enter the function f(x), e.g. (x+1)/(x-1): \")\n",
    "    lim_str = input(\"Enter the limit point (e.g. oo, -oo, 0, 1): \")\n",
    "\n",
    "    limit_expr, limit_result = calculate_limit(f_str, lim_str)\n",
    "\n",
    "    # Display the limit expression and result on the same line\n",
    "    print(\"Limit Expression and Result:\\n\")\n",
    "    sp.pprint(sp.Eq(limit_expr, limit_result))\n",
    "\n",
    "if __name__ == \"__main__\":\n",
    "    main()\n"
   ]
  }
 ],
 "metadata": {
  "kernelspec": {
   "display_name": "roadmap",
   "language": "python",
   "name": "python3"
  },
  "language_info": {
   "name": "python",
   "version": "3.11.11"
  }
 },
 "nbformat": 4,
 "nbformat_minor": 5
}
