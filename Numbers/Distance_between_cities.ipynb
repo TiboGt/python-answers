{
 "cells": [
  {
   "cell_type": "markdown",
   "id": "de3db46b",
   "metadata": {},
   "source": [
    "Distance Between Two Cities - Calculates the distance between two cities and allows the user to specify a unit of distance. This program may require finding coordinates for the cities like latitude and longitude."
   ]
  },
  {
   "cell_type": "code",
   "execution_count": null,
   "id": "1880c752",
   "metadata": {},
   "outputs": [
    {
     "name": "stdout",
     "output_type": "stream",
     "text": [
      "The distance between the two cities is : 6212.78 kilometers\n"
     ]
    }
   ],
   "source": [
    "# This program calculates the distance between two cities and allows the user to specify a unit of distance. This program may require finding coordiantes for the cities\n",
    "\n",
    "def calculate_distance(coord1, coord2, unit = 'kilometers'):\n",
    "    # Calculate the distance between two coordinates using the Haversine formula\n",
    "    from math import radians, sin, cos, sqrt, atan2\n",
    "    lat1, long1 = coord1\n",
    "    lat2, long2 = coord2\n",
    "    # Convert latitude and longitude from degrees to radians\n",
    "    lat1, long1, lat2, long2 = map(radians, [lat1, long1, lat2, long2])\n",
    "    # Haversine formula\n",
    "    dlon = long2 - long1\n",
    "    dlat = lat2 - lat1\n",
    "    a = sin(dlat/2)**2 + cos(lat1) * cos(lat2) * sin(dlon/2)**2\n",
    "    c = 2*atan2(sqrt(a), sqrt(1-a))\n",
    "    r_kilometers = 6371 #Radius of earth in kilometers\n",
    "    r_miles = 3956 #Radius of earth in miles\n",
    "    r_meters = r_kilometers*1000\n",
    "\n",
    "    match unit:\n",
    "        case 'kilometers':\n",
    "            distance = r_kilometers * c\n",
    "        case 'miles' :\n",
    "            distance = r_miles * c\n",
    "        case 'meters' :\n",
    "            distance = r_meters * c\n",
    "        case _:\n",
    "            print(\"Invalid unit. Please enter kilometers, miles or meters\")\n",
    "    \n",
    "    return distance, unit\n",
    "\n",
    "def main():\n",
    "    try:\n",
    "        #Ask the user for the coordinates of the first city:\n",
    "        lat1 = float(input('Enter the latitude of the first city:'))\n",
    "        long1 = float(input('Enter the longitude of the first city:'))\n",
    "        coord1 = (lat1, long1)\n",
    "        #Ask the user for the coordinates of the second city:\n",
    "        lat2 = float(input('Enter the latitude of the second city:'))\n",
    "        long2 = float(input('Enter the longitude of the second city:'))\n",
    "        coord2 = (lat2, long2)\n",
    "        #Ask the user for the unit of distance:\n",
    "        unit = input(\"Enter the unit of distance ('kilometers', 'miles', 'meters'):\").strip().lower()\n",
    "        #Calculate the distance between the two cities:\n",
    "        distnace, unit = calculate_distance(coord1, coord2, unit)\n",
    "        #Print the distance:\n",
    "        print(f\"The distance between the two cities is : {distnace:.2f} {unit}\")\n",
    "    except ValueError:\n",
    "        print(\"Please enter valid input\")\n",
    "\n",
    "if __name__ == \"__main__\":\n",
    "    main()"
   ]
  }
 ],
 "metadata": {
  "kernelspec": {
   "display_name": "roadmap",
   "language": "python",
   "name": "python3"
  },
  "language_info": {
   "name": "python",
   "version": "3.11.11"
  }
 },
 "nbformat": 4,
 "nbformat_minor": 5
}
