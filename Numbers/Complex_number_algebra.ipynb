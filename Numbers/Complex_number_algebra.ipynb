{
 "cells": [
  {
   "cell_type": "markdown",
   "id": "30da2de8",
   "metadata": {},
   "source": [
    "Complex Number Algebra - Show addition, multiplication, negation, and inversion of complex numbers in separate functions. (Subtraction and division operations can be made with pairs of these operations.) Print the results for each operation tested."
   ]
  },
  {
   "cell_type": "code",
   "execution_count": null,
   "id": "c7c575e9",
   "metadata": {},
   "outputs": [
    {
     "name": "stdout",
     "output_type": "stream",
     "text": [
      "(4+7i) / (1-3i) = -1.70 + 1.90i\n"
     ]
    }
   ],
   "source": [
    "import re\n",
    "\n",
    "def parse_complex_number(number):\n",
    "    # Find non numerical char as pattern\n",
    "    pattern = r'([+-]?\\d*)([+-]\\d+i)'\n",
    "    match = re.match(pattern, number)\n",
    "\n",
    "    if not match:\n",
    "        raise ValueError(\"Format de nombre complexe invalide. Utilisez le format 'a+bi', 'a-bi', '+bi', ou '-bi'.\")\n",
    "\n",
    "    real_part = float(match.group(1)) if match.group(1) else 0.0\n",
    "    imaginary_part = float(match.group(2).replace('i', ''))\n",
    "\n",
    "    return real_part, imaginary_part\n",
    "\n",
    "def perform_operation(real1, imag1, real2, imag2, operation):\n",
    "    if operation == '+':\n",
    "        return real1 + real2, imag1 + imag2\n",
    "    elif operation == '-':\n",
    "        return real1 - real2, imag1 - imag2\n",
    "    elif operation == '*'  :\n",
    "        return real1*real2 - imag1*imag2, (real1*imag2 + imag1*real2) \n",
    "    elif operation == '/':\n",
    "        #Second complexe inversion\n",
    "        inv_real2, inv_imag2 = inversion(real2, imag2)\n",
    "        return perform_operation(real1, imag1, inv_real2, inv_imag2, '*')\n",
    "    else:\n",
    "        raise ValueError(\"Opération non supportée\")\n",
    "\n",
    "def negation(real1, img1):\n",
    "    #Return the negative of the complex number\n",
    "    n_real1 = real1*(-1)\n",
    "    n_img1 = img1*(-1)\n",
    "    return n_real1, n_img1\n",
    "\n",
    "def inversion(real1, img1):\n",
    "    #Return the inversion of the complex number\n",
    "    denominator = (real1**2+img1**2)\n",
    "    inv_real = real1/denominator\n",
    "    inv_img1 = -img1/denominator\n",
    "    return inv_real, inv_img1\n",
    "    \n",
    "def main():\n",
    "    first_number = input('Enter first imaginary number (ex: 3+4i) : ')\n",
    "    real1, imag1 = parse_complex_number(first_number)\n",
    "\n",
    "    second_number = input('Enter second imaginary number (ex: 1+2i) : ')\n",
    "    real2, imag2 = parse_complex_number(second_number)\n",
    "\n",
    "    operation = input('Enter operation (+, -, *, /), : ')\n",
    "\n",
    "    try:\n",
    "        result_real, result_imag = perform_operation(real1, imag1, real2, imag2, operation)\n",
    "        print(f\"({first_number}) {operation} ({second_number}) = {result_real:.2f} + {result_imag:.2f}i\")\n",
    "    except ValueError as e:\n",
    "        print(e)\n",
    "\n",
    "if __name__ == \"__main__\":\n",
    "    main()\n"
   ]
  }
 ],
 "metadata": {
  "kernelspec": {
   "display_name": "roadmap",
   "language": "python",
   "name": "python3"
  },
  "language_info": {
   "name": "python",
   "version": "3.11.11"
  }
 },
 "nbformat": 4,
 "nbformat_minor": 5
}
