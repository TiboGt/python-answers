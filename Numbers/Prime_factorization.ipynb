{
 "cells": [
  {
   "cell_type": "markdown",
   "id": "fc0cadf0",
   "metadata": {},
   "source": [
    "Prime Factorization - Have the user enter a number and find all Prime Factors (if there are any) and display them."
   ]
  },
  {
   "cell_type": "code",
   "execution_count": null,
   "id": "42fea870",
   "metadata": {},
   "outputs": [
    {
     "name": "stdout",
     "output_type": "stream",
     "text": [
      "Prime factors of 5 are:\n",
      "5\n"
     ]
    }
   ],
   "source": [
    "def prime_factors(n):\n",
    "    prime_factors = []\n",
    "    for i in range(2, n + 1):\n",
    "        while n % i == 0:\n",
    "            prime_factors.append(i)\n",
    "            n = n // i\n",
    "    return prime_factors\n",
    "\n",
    "\n",
    "def main():\n",
    "    try:\n",
    "        #Ask the user for the number to find all prime factors from\n",
    "        n = int(input(\"Enter a number to find all prime factors from: \"))\n",
    "        #Call the function to find all prime factors\n",
    "        prime_factor = prime_factors(n)\n",
    "        \n",
    "        if len(prime_factor) == 0:\n",
    "            print(\"No prime factors found\")\n",
    "        else:\n",
    "            print(\"Prime factors of\", n, \"are:\")\n",
    "            for i in prime_factor:\n",
    "                print(i)\n",
    "\n",
    "    except ValueError:\n",
    "        print(\"Please enter a valid number\")\n",
    "\n",
    "if __name__ == \"__main__\":\n",
    "    main()"
   ]
  }
 ],
 "metadata": {
  "kernelspec": {
   "display_name": "roadmap",
   "language": "python",
   "name": "python3"
  },
  "language_info": {
   "name": "python",
   "version": "3.11.11"
  }
 },
 "nbformat": 4,
 "nbformat_minor": 5
}
