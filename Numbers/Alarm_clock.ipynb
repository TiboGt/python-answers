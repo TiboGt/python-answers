{
 "cells": [
  {
   "cell_type": "markdown",
   "id": "be74eb4a",
   "metadata": {},
   "source": [
    "Alarm Clock - A simple clock where it plays a sound after X number of minutes/seconds or at a particular time."
   ]
  },
  {
   "cell_type": "code",
   "execution_count": null,
   "id": "a89c13f1",
   "metadata": {},
   "outputs": [
    {
     "name": "stdout",
     "output_type": "stream",
     "text": [
      "Time to wait: 88 seconds\n",
      "Alarm time reached!\n"
     ]
    }
   ],
   "source": [
    "#This program is designed to create a simple clock that plays a sound after a certain amount of time or at a particular time\n",
    "\n",
    "import time\n",
    "import winsound\n",
    "import datetime\n",
    "\n",
    "def main():\n",
    "    try:\n",
    "        #Ask the user for the time to set the alarm\n",
    "        alarm_time = input('Enter the time to set the alarm (HH:MM):')\n",
    "        #validate the time format\n",
    "        datetime.datetime.strptime(alarm_time, \"%H:%M\")\n",
    "        #Get the currentime time\n",
    "        current_time  = datetime.datetime.now()\n",
    "        #Get the current time in seconds\n",
    "        curent_time_seconds = current_time.hour*3600 + current_time.minute*60 + current_time.second\n",
    "        #Get the alarm time in seconds\n",
    "        alarm_time_seconds = int(alarm_time.split(\":\")[0])*3600 + int(alarm_time.split(\":\")[1])*60\n",
    "        #Check if the alarm time is in the future \n",
    "        if alarm_time_seconds < curent_time_seconds:\n",
    "            raise ValueError('Alarm time must be in the future')\n",
    "        #Caclulate time to wait in seconds\n",
    "        time_to_wait = alarm_time_seconds - curent_time_seconds\n",
    "        #Print time to wait\n",
    "        print(f\"Time to wait: {time_to_wait} seconds\")\n",
    "        #Wait for the time to wait\n",
    "        time.sleep(time_to_wait)\n",
    "        #Play the sound\n",
    "        print('Alarm time reached!')  \n",
    "        winsound.Beep(1500, 500)\n",
    "    except ValueError:\n",
    "        raise ValueError('Incorrect time format. Please use HH:MM format')\n",
    "    \n",
    "if __name__ == \"__main__\":\n",
    "    main()"
   ]
  }
 ],
 "metadata": {
  "kernelspec": {
   "display_name": "roadmap",
   "language": "python",
   "name": "python3"
  },
  "language_info": {
   "name": "python",
   "version": "3.11.11"
  }
 },
 "nbformat": 4,
 "nbformat_minor": 5
}
