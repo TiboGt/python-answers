{
 "cells": [
  {
   "cell_type": "markdown",
   "id": "789bcfb8",
   "metadata": {},
   "source": [
    "Number Names - Show how to spell out a number in English. You can use a preexisting implementation or roll your own, but you should support inputs up to at least one million (or the maximum value of your language's default bounded integer type, if that's less). Optional: Support for inputs other than positive integers (like zero, negative integers, and floating-point numbers)."
   ]
  },
  {
   "cell_type": "code",
   "execution_count": 1,
   "id": "c4c3bd09",
   "metadata": {},
   "outputs": [
    {
     "name": "stdout",
     "output_type": "stream",
     "text": [
      "10 is spelled ten\n"
     ]
    }
   ],
   "source": [
    "import inflect\n",
    "\n",
    "def number_to_words(number):\n",
    "    p = inflect.engine()\n",
    "    word = p.number_to_words(number)\n",
    "    return word\n",
    "\n",
    "def main():\n",
    "    number = input(('Please enter the number you want to convert to word: '))\n",
    "    word = number_to_words(number)\n",
    "    print(f\"{number} is spelled {word}\")\n",
    "\n",
    "if __name__ == \"__main__\":\n",
    "    main()"
   ]
  }
 ],
 "metadata": {
  "kernelspec": {
   "display_name": "roadmap",
   "language": "python",
   "name": "python3"
  },
  "language_info": {
   "codemirror_mode": {
    "name": "ipython",
    "version": 3
   },
   "file_extension": ".py",
   "mimetype": "text/x-python",
   "name": "python",
   "nbconvert_exporter": "python",
   "pygments_lexer": "ipython3",
   "version": "3.11.11"
  }
 },
 "nbformat": 4,
 "nbformat_minor": 5
}
