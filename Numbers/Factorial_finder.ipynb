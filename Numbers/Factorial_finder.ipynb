{
 "cells": [
  {
   "cell_type": "markdown",
   "id": "10feb198",
   "metadata": {},
   "source": [
    "Factorial Finder - The factorial of a positive integer n is defined as the product of the sequence , n-1, n-2, ...1 and the factorial of 0 is defined as being 1. Solve this using both loops and recursion."
   ]
  },
  {
   "cell_type": "code",
   "execution_count": null,
   "id": "8785bdc2",
   "metadata": {},
   "outputs": [
    {
     "name": "stdout",
     "output_type": "stream",
     "text": [
      "1 = 1!\n",
      "No factorial representation found for 1, closest value is 2 = 2!\n"
     ]
    }
   ],
   "source": [
    "# Find the factorial from the number entered by the user\n",
    "\n",
    "def factorial_value(user_number):\n",
    "    if user_number == 0 :\n",
    "        value = 1\n",
    "        return value\n",
    "    elif user_number == 1 :\n",
    "        value = 1\n",
    "        return value\n",
    "    else :\n",
    "        value = user_number * factorial_value(user_number-1) \n",
    "        return value\n",
    "\n",
    "\n",
    "value_to_find = int(input(\"Enter a value to find factorial\"))\n",
    "\n",
    "i = 1\n",
    "while True :\n",
    "    fac = factorial_value(i)\n",
    "    if fac == value_to_find:\n",
    "        print(f\"{fac} = {i}!\")\n",
    "    elif fac > value_to_find:\n",
    "        print(f\"No factorial representation found for {value_to_find}, closest value is {fac} = {i}!\")\n",
    "        break\n",
    "    i +=1 \n",
    "\n"
   ]
  },
  {
   "cell_type": "code",
   "execution_count": null,
   "id": "14b1f4b6",
   "metadata": {},
   "outputs": [
    {
     "name": "stdout",
     "output_type": "stream",
     "text": [
      "24 = 4!\n"
     ]
    }
   ],
   "source": [
    "def factorial_value(user_number, memo={}):\n",
    "    \"\"\"Calculate the factorial of a number using memoization.\"\"\"\n",
    "    if user_number in memo:\n",
    "        return memo[user_number]\n",
    "    if user_number == 0 or user_number == 1:\n",
    "        return 1\n",
    "    else:\n",
    "        memo[user_number] = user_number * factorial_value(user_number - 1, memo)\n",
    "        return memo[user_number]\n",
    "\n",
    "def find_factorial_representation(value_to_find):\n",
    "    \"\"\"Find if the given value is a factorial of any number.\"\"\"\n",
    "    if value_to_find < 1:\n",
    "        print(\"Please enter a positive integer.\")\n",
    "        return\n",
    "\n",
    "    if value_to_find == 1:\n",
    "        print(\"1 = 0!\")\n",
    "        print(\"1 = 1!\")\n",
    "        return\n",
    "\n",
    "    i = 1\n",
    "    while True:\n",
    "        fac = factorial_value(i)\n",
    "        if fac == value_to_find:\n",
    "            print(f\"{fac} = {i}!\")\n",
    "            break\n",
    "        elif fac > value_to_find:\n",
    "            print(f\"No factorial representation found for {value_to_find}.\")\n",
    "            break\n",
    "        i += 1\n",
    "\n",
    "# Input from the user\n",
    "try:\n",
    "    value_to_find = int(input(\"Enter a value to find factorial representation: \"))\n",
    "    find_factorial_representation(value_to_find)\n",
    "except ValueError:\n",
    "    print(\"Invalid input. Please enter an integer.\")\n"
   ]
  }
 ],
 "metadata": {
  "language_info": {
   "name": "python"
  }
 },
 "nbformat": 4,
 "nbformat_minor": 5
}
