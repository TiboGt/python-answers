{
 "cells": [
  {
   "cell_type": "markdown",
   "id": "41b1055d",
   "metadata": {},
   "source": [
    "Fast Exponentiation - Ask the user to enter 2 integers a and b and output a^b (i.e. pow(a,b)) in O(lg n) time complexity."
   ]
  },
  {
   "cell_type": "code",
   "execution_count": null,
   "id": "71359350",
   "metadata": {},
   "outputs": [
    {
     "name": "stdout",
     "output_type": "stream",
     "text": [
      "Result of pow(3,5) is 243\n"
     ]
    }
   ],
   "source": [
    "def fast_expo(a, b):\n",
    "    # Define a way to make pow(a,b) efficiently\n",
    "    result = 1\n",
    "    base = a\n",
    "    exponent = b\n",
    "\n",
    "    if exponent == 0 : \n",
    "        return result\n",
    "   \n",
    "    else :\n",
    "        while exponent > 0 : \n",
    "            if exponent % 2 == 1 : #if exponent is odd, make it even by multiplying result by the base one time\n",
    "                result = base * result\n",
    "            base = base*base\n",
    "            exponent //= 2 # Divide exponent by 2 as we squared the base\n",
    "    return result\n",
    "            \n",
    "def main():\n",
    "    a = int(input(\"Enter the first number (the base)\"))\n",
    "    b = int(input(\"Enter the second number (the exponent)\"))\n",
    "    result = fast_expo(a,b)\n",
    "    print(f\"Result of pow({a},{b}) is {result}\")\n",
    "\n",
    "if __name__ == \"__main__\":\n",
    "    main()"
   ]
  }
 ],
 "metadata": {
  "language_info": {
   "name": "python"
  }
 },
 "nbformat": 4,
 "nbformat_minor": 5
}
