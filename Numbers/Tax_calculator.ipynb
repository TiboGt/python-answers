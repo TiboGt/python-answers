{
 "cells": [
  {
   "cell_type": "markdown",
   "id": "34ecbadd",
   "metadata": {},
   "source": [
    "Tax Calculator - Asks the user to enter a cost and either a country or state tax. It then returns the tax plus the total cost with tax."
   ]
  },
  {
   "cell_type": "code",
   "execution_count": null,
   "id": "f81709b4",
   "metadata": {},
   "outputs": [
    {
     "name": "stdout",
     "output_type": "stream",
     "text": [
      "Cost = 35\n",
      "For a tax of 0.2 : Tax cost = 35.2\n",
      "Total cost = 35.40\n"
     ]
    }
   ],
   "source": [
    "#Little program to calculate the tax for a country or state return the tax and the total cost with tax\n",
    "\n",
    "cost = int(input(\"Please enter the cost of the product\"))\n",
    "print(f\"Cost = {cost}\")\n",
    "tax = float(input(\"Please enter tax rate in decimal form\"))\n",
    "tax_cost = cost + tax \n",
    "print(f\"For a tax of {tax} : Tax cost = {tax_cost}\")\n",
    "total_cost = tax + tax_cost\n",
    "print(f\"Total cost = {total_cost:.2f}\")"
   ]
  }
 ],
 "metadata": {
  "language_info": {
   "name": "python"
  }
 },
 "nbformat": 4,
 "nbformat_minor": 5
}
