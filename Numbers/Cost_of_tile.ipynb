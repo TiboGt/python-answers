{
 "cells": [
  {
   "cell_type": "markdown",
   "id": "4a17758a",
   "metadata": {},
   "source": [
    "Find Cost of Tile to Cover W x H Floor - Calculate the total cost of tile it would take to cover a floor plan of width and height, using a cost entered by the user."
   ]
  },
  {
   "cell_type": "code",
   "execution_count": null,
   "id": "4bf5f2a7",
   "metadata": {},
   "outputs": [
    {
     "name": "stdout",
     "output_type": "stream",
     "text": [
      "Total cost: 120.0 $\n"
     ]
    }
   ],
   "source": [
    "def main():\n",
    "    try:\n",
    "        tile_cost = float(input('Cost of tile: '))\n",
    "        width = float(input('Width: '))\n",
    "        height = float(input('Height: '))\n",
    "        area = width*height\n",
    "        area_tile = float(input('Tile area:'))\n",
    "        total_cost = area/(area_tile*tile_cost)\n",
    "        print(f\"Total cost: {total_cost} $\")\n",
    "    except ValueError:\n",
    "        print(\"Please enter valid input\")\n",
    "\n",
    "if __name__ == \"__main__\":\n",
    "    main()"
   ]
  }
 ],
 "metadata": {
  "kernelspec": {
   "display_name": "roadmap",
   "language": "python",
   "name": "python3"
  },
  "language_info": {
   "name": "python",
   "version": "3.11.11"
  }
 },
 "nbformat": 4,
 "nbformat_minor": 5
}
