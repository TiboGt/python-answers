{
 "cells": [
  {
   "cell_type": "markdown",
   "id": "36615dfe",
   "metadata": {},
   "source": [
    "Find e to the Nth Digit - Just like the previous problem, but with e instead of PI. Enter a number and have the program generate e up to that many decimal places. Keep a limit to how far the program will go."
   ]
  },
  {
   "cell_type": "code",
   "execution_count": null,
   "id": "19cb6de3",
   "metadata": {},
   "outputs": [
    {
     "name": "stdout",
     "output_type": "stream",
     "text": [
      "e to 5 decimal places is: \n",
      "2.71828\n"
     ]
    }
   ],
   "source": [
    "from mpmath import mp\n",
    "\n",
    "def compute_e_to_nth_digit(n):\n",
    "    # Set the precision to n+1 to ensure the nth digit is accurate\n",
    "    mp.dps = n + 1\n",
    "    # Compute PI with the set precision\n",
    "    e_value = mp.e\n",
    "    return e_value\n",
    "\n",
    "def main():\n",
    "    try:\n",
    "        #Ask the user for the number of decimal places\n",
    "        n = int(input(\"Enter the number of decimal places for e:\"))\n",
    "        if n < 1:\n",
    "            raise ValueError(\"The number of decimal places must be a postive integer\")\n",
    "        if n >= 50:\n",
    "            raise ValueError(\"The number of decimal should be lower than 50\")\n",
    "        \n",
    "        # Compute PI to the Nth decimal place\n",
    "        e_value = compute_e_to_nth_digit(n)\n",
    "        print(f\"e to {n} decimal places is: \\n{e_value}\")\n",
    "    \n",
    "    except ValueError as ve:\n",
    "        print(f\"Invalid input: {ve}\")\n",
    "\n",
    "if __name__ == \"__main__\":\n",
    "    main()"
   ]
  }
 ],
 "metadata": {
  "kernelspec": {
   "display_name": "roadmap",
   "language": "python",
   "name": "python3"
  },
  "language_info": {
   "name": "python",
   "version": "3.11.11"
  }
 },
 "nbformat": 4,
 "nbformat_minor": 5
}
