{
 "cells": [
  {
   "cell_type": "markdown",
   "id": "1cfe3a49",
   "metadata": {},
   "source": [
    "Binary to Decimal and Back Converter - Develop a converter to convert a decimal number to binary or a binary number to its decimal equivalent."
   ]
  },
  {
   "cell_type": "code",
   "execution_count": null,
   "id": "af174573",
   "metadata": {},
   "outputs": [
    {
     "name": "stdout",
     "output_type": "stream",
     "text": [
      "Binary number is: 10001\n",
      "Decimal number is: 17\n"
     ]
    }
   ],
   "source": [
    "def binary_to_decimal(binary):\n",
    "    # Convert binary to decimal\n",
    "    decimal = int(binary, 2)\n",
    "    return decimal\n",
    "\n",
    "def decimal_to_binary(decimal):\n",
    "    # Convert decimal to binary \n",
    "    binary = bin(int(decimal))[2:] #Removing the 0b makes the output simply 1110, which might be necessary for certain formatting requirements or calculations\n",
    "    return binary\n",
    "\n",
    "def main():\n",
    "    try :\n",
    "        #Ask the user for the conversion type\n",
    "        conversion_type = input(\"Select a conversion type: [1] Binary to Decimal, [2] Decimal to Binary:\").strip()\n",
    "        if conversion_type == \"1\":\n",
    "            # Convert binary to decimal\n",
    "            binary = input('Enter a binary number:')\n",
    "            print(f\"Binary number is: {binary}\")\n",
    "            # Validate binary input\n",
    "            if not all(char in '01' for char in binary):\n",
    "                raise ValueError(\"Invalid binary number\")\n",
    "            decimal = binary_to_decimal(binary)\n",
    "            print(f\"Decimal number is: {decimal}\")\n",
    "        elif conversion_type == \"2\":\n",
    "            # Convert decimal to binary\n",
    "            decimal = float(input('Enter a decimal number:'))\n",
    "            print(f\"Decimal number is: {decimal}\")\n",
    "            # Validate decimal input\n",
    "            if decimal < 0:\n",
    "                raise ValueError(\"Invalid decimal number\")\n",
    "            binary = decimal_to_binary(decimal)\n",
    "            print(f\"Binary number is: {binary}\")\n",
    "        else:\n",
    "            raise ValueError(\"Invalid conversion type selected\")\n",
    "        \n",
    "    except ValueError as e:\n",
    "        print(f\"Error: {e}. Please enter valid input\")\n",
    "\n",
    "if __name__ == \"__main__\":\n",
    "    main()"
   ]
  }
 ],
 "metadata": {
  "kernelspec": {
   "display_name": "roadmap",
   "language": "python",
   "name": "python3"
  },
  "language_info": {
   "name": "python",
   "version": "3.11.11"
  }
 },
 "nbformat": 4,
 "nbformat_minor": 5
}
