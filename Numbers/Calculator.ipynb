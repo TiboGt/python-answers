{
 "cells": [
  {
   "cell_type": "markdown",
   "id": "4b3f5236",
   "metadata": {},
   "source": [
    "Calculator - A simple calculator to do basic operators. Make it a scientific calculator for added complexity."
   ]
  },
  {
   "cell_type": "code",
   "execution_count": null,
   "id": "a4634794",
   "metadata": {},
   "outputs": [
    {
     "name": "stdout",
     "output_type": "stream",
     "text": [
      "The result of 25*4 is: 100.0\n"
     ]
    }
   ],
   "source": [
    "# This program creates a simple calculator to do basic operations\n",
    "import re\n",
    "\n",
    "\n",
    "def calculate(operation):\n",
    "    \n",
    "    # Extract the operand from the operation string\n",
    "    pattern = r'[^a-zA-Z0-9]'\n",
    "    operand = re.findall(pattern, operation)\n",
    "    if len(operand) != 1:\n",
    "        raise ValueError(\"Invalid input format. Please use the format: number operator number\")\n",
    "    # Extract the numbers from the operation string\n",
    "    pattern2 = r'(\\d+)[^a-zA-Z0-9](\\d+)'\n",
    "    numbers = re.findall(pattern2, operation)\n",
    "    if len(numbers) != 1:\n",
    "        raise ValueError(\"Invalid input format. Please use the format: number operator number\")\n",
    "    a, b = map(float, numbers[0])\n",
    "    \n",
    "    # Perform the calculation based on the operation\n",
    "    if operand[0] == \"+\":\n",
    "        return a+b\n",
    "    elif operand[0] == \"-\":\n",
    "        return a - b\n",
    "    elif operand[0] == \"*\":\n",
    "        return a * b\n",
    "    elif operand[0] == \"/\":\n",
    "        if b != 0:\n",
    "            return a / b\n",
    "        else:\n",
    "            raise ValueError(\"Division by zero is not allowed\")\n",
    "    else:\n",
    "        raise ValueError(\"Invalid operation\")\n",
    "\n",
    "def main():\n",
    "    try:\n",
    "\n",
    "        # Ask the user for the operation in a single line\n",
    "        operation = input('Enter the operation: ')        \n",
    "        # Perform the calculation\n",
    "        result = calculate(operation)\n",
    "        print(f\"The result of {operation} is: {result}\")    \n",
    "    except ValueError as e:\n",
    "        print(f\"Error: {e}. Please enter valid input\")\n",
    "    \n",
    "if __name__ == \"__main__\":\n",
    "    main()"
   ]
  }
 ],
 "metadata": {
  "kernelspec": {
   "display_name": "roadmap",
   "language": "python",
   "name": "python3"
  },
  "language_info": {
   "name": "python",
   "version": "3.11.11"
  }
 },
 "nbformat": 4,
 "nbformat_minor": 5
}
