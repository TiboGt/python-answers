{
 "cells": [
  {
   "cell_type": "markdown",
   "id": "8487f5bb",
   "metadata": {},
   "source": [
    "Credit Card Validator - Takes in a credit card number from a common credit card vendor (Visa, MasterCard, American Express, Discoverer) and validates it to make sure that it is a valid number (look into how credit cards use a checksum)."
   ]
  },
  {
   "cell_type": "code",
   "execution_count": null,
   "id": "7ff9dabe",
   "metadata": {},
   "outputs": [
    {
     "name": "stdout",
     "output_type": "stream",
     "text": [
      "Result is valid\n"
     ]
    }
   ],
   "source": [
    "#This program creates a credit card number and makes sure it is a valid number (The Luhn algotihm)\n",
    "#3141592653589796 (Valid number)\n",
    "def luhn_algorithm(card_number):\n",
    "    # Convert the card number to a list of digits and reverse it\n",
    "    list_number = list(str(card_number))\n",
    "    list_number.reverse()\n",
    "\n",
    "    # Drop the check digit (first digit after reversing)\n",
    "    dropped_list = list_number[1:]\n",
    "\n",
    "    total_sum = 0\n",
    "    for i in range(len(dropped_list)):\n",
    "        if i % 2 == 0:\n",
    "            # Double every second digit (from the right)\n",
    "            odd_number = int(dropped_list[i]) * 2\n",
    "            if odd_number > 9:\n",
    "                total_sum += odd_number - 9\n",
    "            else:\n",
    "                total_sum += odd_number\n",
    "        else:\n",
    "            # Add the digit directly if it's in an even position\n",
    "            total_sum += int(dropped_list[i])\n",
    "\n",
    "    # Calculate the check digit\n",
    "    check_digit = 10 - (total_sum % 10)\n",
    "    if total_sum % 10 == 0:\n",
    "        check_digit = 0\n",
    "\n",
    "    # Validate the check digit\n",
    "    if check_digit == int(list_number[0]):\n",
    "        print('Result is valid')\n",
    "    else:\n",
    "        print('Invalid number')\n",
    "\n",
    "def main():\n",
    "    card_number = input(\"Please enter your card number: \")\n",
    "\n",
    "    # Basic input validation\n",
    "    if not card_number.isdigit():\n",
    "        print(\"Invalid input. Please enter a numeric value.\")\n",
    "        return\n",
    "\n",
    "    luhn_algorithm(card_number)\n",
    "\n",
    "if __name__ == \"__main__\":\n",
    "    main()"
   ]
  }
 ],
 "metadata": {
  "language_info": {
   "name": "python"
  }
 },
 "nbformat": 4,
 "nbformat_minor": 5
}
