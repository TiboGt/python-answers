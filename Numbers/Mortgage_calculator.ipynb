{
 "cells": [
  {
   "cell_type": "markdown",
   "id": "a7509f27",
   "metadata": {},
   "source": [
    "Mortgage Calculator - Calculate the monthly payments of a fixed term mortgage over given Nth terms at a given interest rate. Also figure out how long it will take the user to pay back the loan. For added complexity, add an option for users to select the compounding interval (Monthly, Weekly, Daily, Continually)."
   ]
  },
  {
   "cell_type": "code",
   "execution_count": null,
   "id": "20bef2ae",
   "metadata": {},
   "outputs": [
    {
     "name": "stdout",
     "output_type": "stream",
     "text": [
      "For an amount of 12000.00$ in the span of 10 years at an interest rate of 0.05 the monthly payment is: 127.28$\n"
     ]
    }
   ],
   "source": [
    "def mortgage_formula(amount, interest_rate, loan_term):\n",
    "    \n",
    "    compounding_interval = str(input('Selec compounding interval: [Monthly, Weekly, Daily]')).strip().lower()\n",
    "    if compounding_interval == 'monthly':\n",
    "        r = interest_rate/12\n",
    "        t = loan_term*12\n",
    "    elif compounding_interval == 'weekly':\n",
    "        r = interest_rate/52\n",
    "        t = loan_term*52\n",
    "    elif compounding_interval == 'daily':\n",
    "        r = interest_rate/365\n",
    "        t = loan_term*365\n",
    "    else:\n",
    "        raise ValueError('Invalid compounding interval selected')\n",
    "\n",
    "    first_term = r*pow((1+r),t)\n",
    "    second_term = pow(1+r,t)-1\n",
    "    monthly_payment = amount  * (first_term/second_term)\n",
    "    return monthly_payment, compounding_interval\n",
    "\n",
    "\n",
    "def main():\n",
    "    try:\n",
    "        \n",
    "        amount = float(input(\"Amount to pay: \"))\n",
    "        interest_rate = float(input(\"Interest rate (as a decima): \"))\n",
    "        loan_term = float(input(\"Select a loan term (in years): \"))\n",
    "\n",
    "        monthly_payment, compounding_interval = mortgage_formula(amount, interest_rate, loan_term)\n",
    "        print(f\"For an amount of {amount:.2f}$ in the span of {loan_term:.0f} years at an interest rate of {interest_rate} the {compounding_interval} payment is: {monthly_payment:.2f}$\")\n",
    "    \n",
    "    except ValueError as e:\n",
    "        print(f\"Error : {e}. Please enter valid input\")\n",
    "\n",
    "if __name__ == (\"__main__\"):\n",
    "    main()"
   ]
  }
 ],
 "metadata": {
  "kernelspec": {
   "display_name": "roadmap",
   "language": "python",
   "name": "python3"
  },
  "language_info": {
   "name": "python",
   "version": "3.11.11"
  }
 },
 "nbformat": 4,
 "nbformat_minor": 5
}
