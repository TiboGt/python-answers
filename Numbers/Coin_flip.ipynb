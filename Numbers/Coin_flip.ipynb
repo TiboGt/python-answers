{
 "cells": [
  {
   "cell_type": "markdown",
   "id": "b1adfe11",
   "metadata": {},
   "source": [
    "Coin Flip Simulation - Write some code that simulates flipping a single coin however many times the user decides. The code should record the outcomes and count the number of tails and heads."
   ]
  },
  {
   "cell_type": "code",
   "execution_count": null,
   "id": "9836a78e",
   "metadata": {},
   "outputs": [
    {
     "name": "stdout",
     "output_type": "stream",
     "text": [
      "T\n",
      "T\n",
      "H\n",
      "T\n",
      "T\n",
      "T\n",
      "H\n",
      "H\n",
      "H\n",
      "H\n",
      "For 10 flipped coins you have 5 tails and 5 heads\n"
     ]
    }
   ],
   "source": [
    "import random\n",
    "\n",
    "def flip_coin(howmanytime):\n",
    "    tails = 0\n",
    "    heads = 0\n",
    "    for i in range(0, howmanytime, 1):\n",
    "        sort = random.randrange(1,100)\n",
    "        if sort % 2 == 0 :\n",
    "            tails += 1\n",
    "            print('T')\n",
    "        else :\n",
    "            heads +=1\n",
    "            print('H')\n",
    "    print(f\"For {howmanytime} flipped coins you have {tails} tails and {heads} heads\")          \n",
    "\n",
    "\n",
    "def main():\n",
    "    flip_time = int(input(\"How many times do you wish to flip the coin?:\"))\n",
    "    flip_coin(flip_time)\n",
    "\n",
    "if __name__ == \"__main__\":\n",
    "    main()"
   ]
  }
 ],
 "metadata": {
  "language_info": {
   "name": "python"
  }
 },
 "nbformat": 4,
 "nbformat_minor": 5
}
