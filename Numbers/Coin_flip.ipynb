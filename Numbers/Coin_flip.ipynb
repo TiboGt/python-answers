{
 "cells": [
  {
   "cell_type": "markdown",
   "id": "b1adfe11",
   "metadata": {},
   "source": [
    "Coin Flip Simulation - Write some code that simulates flipping a single coin however many times the user decides. The code should record the outcomes and count the number of tails and heads."
   ]
  },
  {
   "cell_type": "code",
   "execution_count": 10,
   "id": "49b1e283",
   "metadata": {},
   "outputs": [
    {
     "data": {
      "text/plain": [
       "0.5959441248517714"
      ]
     },
     "execution_count": 10,
     "metadata": {},
     "output_type": "execute_result"
    }
   ],
   "source": [
    "import random\n",
    "\n",
    "random.random()"
   ]
  },
  {
   "cell_type": "code",
   "execution_count": 11,
   "id": "9836a78e",
   "metadata": {},
   "outputs": [
    {
     "name": "stdout",
     "output_type": "stream",
     "text": [
      "H\n",
      "T\n",
      "T\n",
      "T\n",
      "T\n",
      "H\n",
      "T\n",
      "H\n",
      "T\n",
      "T\n",
      "For 10 flipped coins you have 7 tails and 3 heads\n"
     ]
    }
   ],
   "source": [
    "import random\n",
    "\n",
    "def flip_coin(howmanytime):\n",
    "    tails = 0\n",
    "    heads = 0\n",
    "    for i in range(0, howmanytime, 1):\n",
    "        sort = random.random()\n",
    "        if sort > 0.5 :\n",
    "            tails += 1\n",
    "            print('T')\n",
    "        else :\n",
    "            heads +=1\n",
    "            print('H')\n",
    "    print(f\"For {howmanytime} flipped coins you have {tails} tails and {heads} heads\")          \n",
    "\n",
    "\n",
    "def main():\n",
    "    flip_time = int(input(\"How many times do you wish to flip the coin?:\"))\n",
    "    flip_coin(flip_time)\n",
    "\n",
    "if __name__ == \"__main__\":\n",
    "    main()"
   ]
  }
 ],
 "metadata": {
  "kernelspec": {
   "display_name": "roadmap",
   "language": "python",
   "name": "python3"
  },
  "language_info": {
   "codemirror_mode": {
    "name": "ipython",
    "version": 3
   },
   "file_extension": ".py",
   "mimetype": "text/x-python",
   "name": "python",
   "nbconvert_exporter": "python",
   "pygments_lexer": "ipython3",
   "version": "3.11.11"
  }
 },
 "nbformat": 4,
 "nbformat_minor": 5
}
