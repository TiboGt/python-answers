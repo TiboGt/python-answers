{
 "cells": [
  {
   "cell_type": "markdown",
   "id": "39f87983",
   "metadata": {},
   "source": [
    "Eulerian Path - Create a program which will take as an input a graph and output either a Eulerian path or a Eulerian cycle, or state that it is not possible. A Eulerian Path starts at one node and traverses every edge of a graph through every node and finishes at another node. A Eulerian cycle is a eulerian Path that starts and finishes at the same node."
   ]
  },
  {
   "cell_type": "code",
   "execution_count": null,
   "id": "fc21a144",
   "metadata": {},
   "outputs": [
    {
     "name": "stdout",
     "output_type": "stream",
     "text": [
      "Chemin eulérien trouvé :\n",
      "A → B\n",
      "B → C\n",
      "C → A\n",
      "A → D\n",
      "D → C\n"
     ]
    }
   ],
   "source": [
    "import networkx as nx\n",
    "\n",
    "def is_eulerian(G):\n",
    "    \"\"\"Check for eularian cycle.\"\"\"\n",
    "    return nx.is_eulerian(G)\n",
    "\n",
    "def has_eulerian_path(G):\n",
    "    \"\"\"Check for eularian path.\"\"\"\n",
    "    return nx.has_eulerian_path(G)\n",
    "\n",
    "def find_eulerian_path_or_cycle(G):\n",
    "    if is_eulerian(G):\n",
    "        cycle = list(nx.eulerian_circuit(G))\n",
    "        return \"cycle\", cycle\n",
    "    elif has_eulerian_path(G):\n",
    "        path = list(nx.eulerian_path(G))\n",
    "        return \"path\", path\n",
    "    else:\n",
    "        return \"none\", []\n",
    "\n",
    "def main():\n",
    "    # Exemple de graphe (non orienté)\n",
    "    edges = [\n",
    "        (\"A\", \"B\"),\n",
    "        (\"B\", \"C\"),\n",
    "        (\"C\", \"D\"),\n",
    "        (\"D\", \"A\"),\n",
    "        (\"A\", \"C\")\n",
    "    ]\n",
    "    \n",
    "    G = nx.Graph()\n",
    "    G.add_edges_from(edges)\n",
    "    \n",
    "    result_type, result = find_eulerian_path_or_cycle(G)\n",
    "\n",
    "    if result_type == \"cycle\":\n",
    "        print(\"Eularian cycle found :\")\n",
    "    elif result_type == \"path\":\n",
    "        print(\"Eularian path found :\")\n",
    "    else:\n",
    "        print(\"No cycl or path found.\")\n",
    "        return\n",
    "\n",
    "    for u, v in result:\n",
    "        print(f\"{u} → {v}\")\n",
    "\n",
    "if __name__ == \"__main__\":\n",
    "    main()\n"
   ]
  }
 ],
 "metadata": {
  "kernelspec": {
   "display_name": "roadmap",
   "language": "python",
   "name": "python3"
  },
  "language_info": {
   "codemirror_mode": {
    "name": "ipython",
    "version": 3
   },
   "file_extension": ".py",
   "mimetype": "text/x-python",
   "name": "python",
   "nbconvert_exporter": "python",
   "pygments_lexer": "ipython3",
   "version": "3.11.11"
  }
 },
 "nbformat": 4,
 "nbformat_minor": 5
}
