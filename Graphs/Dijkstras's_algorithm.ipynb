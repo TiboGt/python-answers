{
 "cells": [
  {
   "cell_type": "markdown",
   "id": "aea95306",
   "metadata": {},
   "source": [
    "Dijkstra’s Algorithm - Create a program that finds the shortest path through a graph using its edges."
   ]
  },
  {
   "cell_type": "code",
   "execution_count": 1,
   "id": "fc212949",
   "metadata": {},
   "outputs": [
    {
     "name": "stdout",
     "output_type": "stream",
     "text": [
      "Shortest path from A to E: A → B → D → E\n",
      "Total cost: 4\n"
     ]
    }
   ],
   "source": [
    "import networkx as nx\n",
    "\n",
    "def find_shortest_path(graph, source, target):\n",
    "    \"\"\"Finds the shortest path from source to target using Dijkstra's algorithm.\"\"\"\n",
    "    try:\n",
    "        path = nx.dijkstra_path(graph, source, target, weight='weight')\n",
    "        length = nx.dijkstra_path_length(graph, source, target, weight='weight')\n",
    "        return path, length\n",
    "    except nx.NetworkXNoPath:\n",
    "        return None, float('inf')\n",
    "\n",
    "def main():\n",
    "    # Create a weighted graph\n",
    "    G = nx.Graph()\n",
    "    \n",
    "    # Add weighted edges (example: roads with distances)\n",
    "    G.add_weighted_edges_from([\n",
    "        (\"A\", \"B\", 1),\n",
    "        (\"B\", \"C\", 2),\n",
    "        (\"A\", \"D\", 4),\n",
    "        (\"D\", \"E\", 1),\n",
    "        (\"C\", \"E\", 3),\n",
    "        (\"B\", \"D\", 2)\n",
    "    ])\n",
    "    \n",
    "    source = \"A\"\n",
    "    target = \"E\"\n",
    "    \n",
    "    path, length = find_shortest_path(G, source, target)\n",
    "\n",
    "    if path:\n",
    "        print(f\"Shortest path from {source} to {target}: {' → '.join(path)}\")\n",
    "        print(f\"Total cost: {length}\")\n",
    "    else:\n",
    "        print(f\"No path found from {source} to {target}.\")\n",
    "\n",
    "if __name__ == \"__main__\":\n",
    "    main()\n"
   ]
  }
 ],
 "metadata": {
  "kernelspec": {
   "display_name": "roadmap",
   "language": "python",
   "name": "python3"
  },
  "language_info": {
   "codemirror_mode": {
    "name": "ipython",
    "version": 3
   },
   "file_extension": ".py",
   "mimetype": "text/x-python",
   "name": "python",
   "nbconvert_exporter": "python",
   "pygments_lexer": "ipython3",
   "version": "3.11.11"
  }
 },
 "nbformat": 4,
 "nbformat_minor": 5
}
