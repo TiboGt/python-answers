{
 "cells": [
  {
   "cell_type": "markdown",
   "id": "862c9903",
   "metadata": {},
   "source": [
    "Minimum Spanning Tree - Create a program which takes a connected, undirected graph with weights and outputs the minimum spanning tree of the graph i.e., a subgraph that is a tree, contains all the vertices, and the sum of its weights is the least possible"
   ]
  },
  {
   "cell_type": "code",
   "execution_count": 2,
   "id": "96223119",
   "metadata": {},
   "outputs": [
    {
     "name": "stdout",
     "output_type": "stream",
     "text": [
      "Edges in the MinimumSpanningTree:\n",
      "  A — B (weight 1)\n",
      "  A — C (weight 2)\n",
      "  B — D (weight 4)\n",
      "  D — E (weight 6)\n",
      "Total weight of MinimumSpanningTree: 13\n"
     ]
    }
   ],
   "source": [
    "class UnionFind:\n",
    "    \"\"\"Disjoint‑set union with path compression and union by rank.\"\"\"\n",
    "    def __init__(self, elements):\n",
    "        # Initially, each element is its own parent (self‑rooted tree)\n",
    "        self.parent = {e: e for e in elements}\n",
    "        self.rank   = {e: 0 for e in elements}\n",
    "\n",
    "    def find(self, x):\n",
    "        # Path compression\n",
    "        if self.parent[x] != x:\n",
    "            self.parent[x] = self.find(self.parent[x])\n",
    "        return self.parent[x]\n",
    "\n",
    "    def union(self, x, y):\n",
    "        # Union by rank\n",
    "        rx, ry = self.find(x), self.find(y)\n",
    "        if rx == ry:\n",
    "            return False  # already in the same set\n",
    "        if self.rank[rx] < self.rank[ry]:\n",
    "            rx, ry = ry, rx\n",
    "        self.parent[ry] = rx\n",
    "        if self.rank[rx] == self.rank[ry]:\n",
    "            self.rank[rx] += 1\n",
    "        return True\n",
    "\n",
    "def kruskal_mst(vertices, edges):\n",
    "    \"\"\"\n",
    "    Compute the MinimumSpanningTree using Kruskal’s algorithm.\n",
    "    \n",
    "    :param vertices: iterable of all nodes in the graph\n",
    "    :param edges: list of tuples (u, v, weight)\n",
    "    :return: (mst_edges, total_weight)\n",
    "    \"\"\"\n",
    "    # 1. Sort edges by ascending weight\n",
    "    edges_sorted = sorted(edges, key=lambda e: e[2])\n",
    "    \n",
    "    uf = UnionFind(vertices)\n",
    "    mst_edges = []\n",
    "    total_weight = 0\n",
    "    \n",
    "    # 2. Process edges in order\n",
    "    for u, v, w in edges_sorted:\n",
    "        if uf.union(u, v):\n",
    "            mst_edges.append((u, v, w))\n",
    "            total_weight += w\n",
    "        # early exit if we already have |V|-1 edges\n",
    "        if len(mst_edges) == len(vertices) - 1:\n",
    "            break\n",
    "    \n",
    "    return mst_edges, total_weight\n",
    "\n",
    "def main():\n",
    "    # Example graph\n",
    "    vertices = [\"A\", \"B\", \"C\", \"D\", \"E\"]\n",
    "    edges = [\n",
    "        (\"A\", \"B\", 1),\n",
    "        (\"B\", \"C\", 3),\n",
    "        (\"A\", \"C\", 2),\n",
    "        (\"B\", \"D\", 4),\n",
    "        (\"C\", \"D\", 5),\n",
    "        (\"B\", \"E\", 7),\n",
    "        (\"D\", \"E\", 6),\n",
    "    ]\n",
    "    \n",
    "    mst, cost = kruskal_mst(vertices, edges)\n",
    "    \n",
    "    print(\"Edges in the MinimumSpanningTree:\")\n",
    "    for u, v, w in mst:\n",
    "        print(f\"  {u} — {v} (weight {w})\")\n",
    "    print(f\"Total weight of MinimumSpanningTree: {cost}\")\n",
    "\n",
    "if __name__ == \"__main__\":\n",
    "    main()\n"
   ]
  }
 ],
 "metadata": {
  "kernelspec": {
   "display_name": "roadmap",
   "language": "python",
   "name": "python3"
  },
  "language_info": {
   "codemirror_mode": {
    "name": "ipython",
    "version": 3
   },
   "file_extension": ".py",
   "mimetype": "text/x-python",
   "name": "python",
   "nbconvert_exporter": "python",
   "pygments_lexer": "ipython3",
   "version": "3.11.11"
  }
 },
 "nbformat": 4,
 "nbformat_minor": 5
}
