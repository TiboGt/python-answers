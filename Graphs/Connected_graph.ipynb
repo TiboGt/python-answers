{
 "cells": [
  {
   "cell_type": "markdown",
   "id": "1ff7b41e",
   "metadata": {},
   "source": [
    "Connected Graph - Create a program which takes a graph as an input and outputs whether every node is connected or not"
   ]
  },
  {
   "cell_type": "code",
   "execution_count": 4,
   "id": "be3b6e88",
   "metadata": {},
   "outputs": [
    {
     "name": "stdout",
     "output_type": "stream",
     "text": [
      "Graph 1 :\n",
      "The graph is connected.\n",
      "\n",
      "Graph 2 :\n",
      "The graph is not connected.\n",
      "\n"
     ]
    }
   ],
   "source": [
    "import networkx as nx\n",
    "\n",
    "def is_graph_connected(G):\n",
    "    \"\"\"Check if graph is connected.\"\"\"\n",
    "    return nx.is_connected(G)\n",
    "\n",
    "def main():\n",
    "    # Connected graph\n",
    "    edges_1 = [\n",
    "        (\"A\", \"B\"),\n",
    "        (\"B\", \"C\"),\n",
    "        (\"C\", \"D\"),\n",
    "        (\"D\", \"A\")\n",
    "    ]\n",
    "\n",
    "    # Not connected graph\n",
    "    edges_2 = [\n",
    "        (\"A\", \"B\"),\n",
    "        (\"C\", \"D\")\n",
    "    ]\n",
    "\n",
    "    for i, edges in enumerate([edges_1, edges_2], start=1):\n",
    "        G = nx.Graph()\n",
    "        G.add_edges_from(edges)\n",
    "\n",
    "        print(f\"Graph {i} :\")\n",
    "        if is_graph_connected(G):\n",
    "            print(\"The graph is connected.\")\n",
    "        else:\n",
    "            print(\"The graph is not connected.\")\n",
    "        print()\n",
    "\n",
    "if __name__ == \"__main__\":\n",
    "    main()\n"
   ]
  }
 ],
 "metadata": {
  "kernelspec": {
   "display_name": "roadmap",
   "language": "python",
   "name": "python3"
  },
  "language_info": {
   "codemirror_mode": {
    "name": "ipython",
    "version": 3
   },
   "file_extension": ".py",
   "mimetype": "text/x-python",
   "name": "python",
   "nbconvert_exporter": "python",
   "pygments_lexer": "ipython3",
   "version": "3.11.11"
  }
 },
 "nbformat": 4,
 "nbformat_minor": 5
}
