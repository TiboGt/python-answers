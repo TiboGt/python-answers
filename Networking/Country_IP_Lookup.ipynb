{
 "cells": [
  {
   "cell_type": "markdown",
   "id": "a1e6ab01",
   "metadata": {},
   "source": [
    "Country from IP Lookup - Enter an IP address and find the country that IP is registered in. Optional: Find the Ip automatically."
   ]
  },
  {
   "cell_type": "code",
   "execution_count": 6,
   "id": "b770e9fb",
   "metadata": {},
   "outputs": [
    {
     "name": "stdout",
     "output_type": "stream",
     "text": [
      "IP: 88.161.166.73\n",
      "Country: France\n"
     ]
    }
   ],
   "source": [
    "import requests\n",
    "\n",
    "def get_public_ip():\n",
    "    try:\n",
    "        response = requests.get(\"https://api.ipify.org?format=json\", timeout=5)\n",
    "        response.raise_for_status()\n",
    "        return response.json().get(\"ip\")\n",
    "    except requests.RequestException:\n",
    "        return None\n",
    "\n",
    "def get_country_from_ip(ip):\n",
    "    try:\n",
    "        url = f\"http://ip-api.com/json/{ip}?fields=status,country,message\"\n",
    "        response = requests.get(url, timeout=5)\n",
    "        data = response.json()\n",
    "        if data.get(\"status\") == \"success\":\n",
    "            return data.get(\"country\")\n",
    "        return f\"Error: {data.get('message', 'Unknown error')}\"\n",
    "    except requests.RequestException:\n",
    "        return \"Error: Failed to reach IP geolocation service.\"\n",
    "\n",
    "# Input: leave blank to detect your own public IP\n",
    "input_ip = input(\"Enter IP address (leave blank to auto-detect): \").strip()\n",
    "\n",
    "ip = input_ip or get_public_ip()\n",
    "if not ip:\n",
    "    print(\"Error: Could not determine public IP.\")\n",
    "else:\n",
    "    print(f\"IP: {ip}\")\n",
    "    country = get_country_from_ip(ip)\n",
    "    print(f\"Country: {country}\")"
   ]
  }
 ],
 "metadata": {
  "kernelspec": {
   "display_name": "roadmap",
   "language": "python",
   "name": "python3"
  },
  "language_info": {
   "codemirror_mode": {
    "name": "ipython",
    "version": 3
   },
   "file_extension": ".py",
   "mimetype": "text/x-python",
   "name": "python",
   "nbconvert_exporter": "python",
   "pygments_lexer": "ipython3",
   "version": "3.11.11"
  }
 },
 "nbformat": 4,
 "nbformat_minor": 5
}
