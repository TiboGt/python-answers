{
 "cells": [
  {
   "cell_type": "markdown",
   "id": "fc7b6a51",
   "metadata": {},
   "source": [
    "FTP Program - A file transfer program which can transfer files back and forth from a remote web sever."
   ]
  },
  {
   "cell_type": "code",
   "execution_count": null,
   "id": "2ec38896",
   "metadata": {},
   "outputs": [
    {
     "name": "stdout",
     "output_type": "stream",
     "text": [
      "Uploaded: test_file.txt to server_side_file.txt\n"
     ]
    }
   ],
   "source": [
    "from ftplib import FTP\n",
    "\n",
    "class SimpleFTP:\n",
    "    def __init__(self, host, username, password):\n",
    "        self.ftp = FTP(host)\n",
    "        self.ftp.login(user=username, passwd=password)\n",
    "\n",
    "    def upload(self, local_file, remote_file):\n",
    "        with open(local_file, 'rb') as f:\n",
    "            self.ftp.storbinary(f'STOR {remote_file}', f)\n",
    "        print(f\"Uploaded: {local_file} to {remote_file}\")\n",
    "\n",
    "    def download(self, remote_file, local_file):\n",
    "        with open(local_file, 'wb') as f:\n",
    "            self.ftp.retrbinary(f'RETR {remote_file}', f.write)\n",
    "        print(f\"Downloaded: {remote_file} to {local_file}\")\n",
    "\n",
    "    def close(self):\n",
    "        self.ftp.quit()\n",
    "\n",
    "# Example usage\n",
    "if __name__ == \"__main__\":\n",
    "    ftp = SimpleFTP('ftp.dlptest.com' , 'dlpuser', 'rNrKYTX9g7z3RgJRmxWuGHbeu')\n",
    "    ftp.upload('test_file.txt', 'server_side_file.txt')\n",
    "    ftp.download('server_side_file.txt', 'downloaded_copy.txt')\n",
    "    ftp.close()\n"
   ]
  }
 ],
 "metadata": {
  "kernelspec": {
   "display_name": "roadmap",
   "language": "python",
   "name": "python3"
  },
  "language_info": {
   "codemirror_mode": {
    "name": "ipython",
    "version": 3
   },
   "file_extension": ".py",
   "mimetype": "text/x-python",
   "name": "python",
   "nbconvert_exporter": "python",
   "pygments_lexer": "ipython3",
   "version": "3.11.11"
  }
 },
 "nbformat": 4,
 "nbformat_minor": 5
}
