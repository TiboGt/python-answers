{
 "cells": [
  {
   "cell_type": "markdown",
   "id": "9912b2d8",
   "metadata": {},
   "source": [
    "Whois Search Tool - Enter an IP or host address and have it look it up through whois and return the results to you."
   ]
  },
  {
   "cell_type": "code",
   "execution_count": 4,
   "id": "ea0535ad",
   "metadata": {},
   "outputs": [
    {
     "data": {
      "text/markdown": [
       "### WHOIS results for `88.161.166.73` (IP: 88.161.166.73)\n"
      ],
      "text/plain": [
       "<IPython.core.display.Markdown object>"
      ]
     },
     "metadata": {},
     "output_type": "display_data"
    },
    {
     "data": {
      "text/markdown": [
       "**nir:** None"
      ],
      "text/plain": [
       "<IPython.core.display.Markdown object>"
      ]
     },
     "metadata": {},
     "output_type": "display_data"
    },
    {
     "data": {
      "text/markdown": [
       "**asn_registry:** ripencc"
      ],
      "text/plain": [
       "<IPython.core.display.Markdown object>"
      ]
     },
     "metadata": {},
     "output_type": "display_data"
    },
    {
     "data": {
      "text/markdown": [
       "**asn:** 12322"
      ],
      "text/plain": [
       "<IPython.core.display.Markdown object>"
      ]
     },
     "metadata": {},
     "output_type": "display_data"
    },
    {
     "data": {
      "text/markdown": [
       "**asn_cidr:** 88.160.0.0/12"
      ],
      "text/plain": [
       "<IPython.core.display.Markdown object>"
      ]
     },
     "metadata": {},
     "output_type": "display_data"
    },
    {
     "data": {
      "text/markdown": [
       "**asn_country_code:** FR"
      ],
      "text/plain": [
       "<IPython.core.display.Markdown object>"
      ]
     },
     "metadata": {},
     "output_type": "display_data"
    },
    {
     "data": {
      "text/markdown": [
       "**asn_date:** 2005-10-03"
      ],
      "text/plain": [
       "<IPython.core.display.Markdown object>"
      ]
     },
     "metadata": {},
     "output_type": "display_data"
    },
    {
     "data": {
      "text/markdown": [
       "**asn_description:** PROXAD, FR"
      ],
      "text/plain": [
       "<IPython.core.display.Markdown object>"
      ]
     },
     "metadata": {},
     "output_type": "display_data"
    },
    {
     "data": {
      "text/markdown": [
       "**query:** 88.161.166.73"
      ],
      "text/plain": [
       "<IPython.core.display.Markdown object>"
      ]
     },
     "metadata": {},
     "output_type": "display_data"
    },
    {
     "data": {
      "text/markdown": [
       "**network:** {'handle': '88.160.0.0 - 88.165.149.255', 'status': ['active'], 'remarks': [{'title': None, 'description': 'Proxad / Free SAS\\nStatic IP address (Freebox)\\nNCC\\nSpam/Abuse requests: mailto:abuse@proxad.net', 'links': None}], 'notices': [{'title': 'Filtered', 'description': 'This output has been filtered.', 'links': None}, {'title': 'Whois Inaccuracy Reporting', 'description': 'If you see inaccuracies in the results, please visit:', 'links': ['https://www.ripe.net/contact-form?topic=ripe_dbm&show_form=true']}, {'title': 'Source', 'description': 'Objects returned came from source\\nRIPE', 'links': None}, {'title': 'Terms and Conditions', 'description': 'This is the RIPE Database query service. The objects are in RDAP format.', 'links': ['http://www.ripe.net/db/support/db-terms-conditions.pdf']}], 'links': ['https://rdap.db.ripe.net/ips/rirSearch1/rdap-up/88.160.0.0%20-%2088.165.149.255', 'https://rdap.db.ripe.net/ips/rirSearch1/rdap-up/88.160.0.0%20-%2088.165.149.255?status=active', 'https://rdap.db.ripe.net/ips/rirSearch1/rdap-down/88.160.0.0%20-%2088.165.149.255', 'https://rdap.db.ripe.net/ips/rirSearch1/rdap-top/88.160.0.0%20-%2088.165.149.255', 'https://rdap.db.ripe.net/ips/rirSearch1/rdap-top/88.160.0.0%20-%2088.165.149.255?status=active', 'https://rdap.db.ripe.net/ips/rirSearch1/rdap-bottom/88.160.0.0%20-%2088.165.149.255', 'https://rdap.db.ripe.net/ip/88.161.166.73', 'http://www.ripe.net/data-tools/support/documentation/terms'], 'events': [{'action': 'registration', 'timestamp': '2006-06-08T14:17:10Z', 'actor': None}, {'action': 'last changed', 'timestamp': '2006-06-08T14:17:10Z', 'actor': None}], 'raw': None, 'start_address': '88.160.0.0', 'end_address': '88.165.149.255', 'cidr': '88.160.0.0/14, 88.164.0.0/16, 88.165.0.0/17, 88.165.128.0/20, 88.165.144.0/22, 88.165.148.0/23', 'ip_version': 'v4', 'type': 'ASSIGNED PA', 'name': 'FR-PROXAD-ADSL', 'country': 'FR', 'parent_handle': '88.160.0.0 - 88.191.255.255'}"
      ],
      "text/plain": [
       "<IPython.core.display.Markdown object>"
      ]
     },
     "metadata": {},
     "output_type": "display_data"
    },
    {
     "data": {
      "text/markdown": [
       "**entities:** ['ACP23-RIPE', 'PROXAD-MNT', 'TCP8-RIPE', 'ACP23-RIPE']"
      ],
      "text/plain": [
       "<IPython.core.display.Markdown object>"
      ]
     },
     "metadata": {},
     "output_type": "display_data"
    },
    {
     "data": {
      "text/markdown": [
       "**objects:** {'ACP23-RIPE': {'handle': 'ACP23-RIPE', 'status': None, 'remarks': None, 'notices': None, 'links': None, 'events': None, 'raw': None, 'roles': ['abuse'], 'contact': {'name': 'Administrative Contact for ProXad', 'kind': 'group', 'address': [{'type': None, 'value': \"Free SAS / ProXad\\n8, rue de la Ville L'Eveque\\n75008 Paris\"}], 'phone': [{'type': 'voice', 'value': '+33 1 73 50 20 00'}, {'type': 'fax', 'value': '+33 1 73 92 25 69'}], 'email': [{'type': 'abuse', 'value': 'abuse@proxad.net'}], 'role': None, 'title': None}, 'events_actor': None, 'entities': ['APfP1-RIPE', 'PROXAD-MNT', 'TPfP1-RIPE']}, 'PROXAD-MNT': {'handle': 'PROXAD-MNT', 'status': None, 'remarks': None, 'notices': None, 'links': ['https://rdap.db.ripe.net/entity/PROXAD-MNT', 'http://www.ripe.net/data-tools/support/documentation/terms'], 'events': None, 'raw': None, 'roles': ['registrant'], 'contact': {'name': 'PROXAD-MNT', 'kind': 'individual', 'address': None, 'phone': None, 'email': None, 'role': None, 'title': None}, 'events_actor': None, 'entities': None}, 'TCP8-RIPE': {'handle': 'TCP8-RIPE', 'status': None, 'remarks': None, 'notices': None, 'links': ['https://rdap.db.ripe.net/entity/TCP8-RIPE', 'http://www.ripe.net/data-tools/support/documentation/terms'], 'events': None, 'raw': None, 'roles': ['technical'], 'contact': {'name': 'Technical Contact for ProXad', 'kind': 'group', 'address': [{'type': None, 'value': \"Free SAS / ProXad\\n8, rue de la Ville L'Eveque\\n75008 Paris\"}], 'phone': [{'type': 'voice', 'value': '+33 1 73 50 20 00'}, {'type': 'fax', 'value': '+33 1 73 92 25 69'}], 'email': [{'type': 'abuse', 'value': 'abuse@proxad.net'}], 'role': None, 'title': None}, 'events_actor': None, 'entities': None}}"
      ],
      "text/plain": [
       "<IPython.core.display.Markdown object>"
      ]
     },
     "metadata": {},
     "output_type": "display_data"
    },
    {
     "data": {
      "text/markdown": [
       "**raw:** None"
      ],
      "text/plain": [
       "<IPython.core.display.Markdown object>"
      ]
     },
     "metadata": {},
     "output_type": "display_data"
    }
   ],
   "source": [
    "from ipwhois import IPWhois\n",
    "from IPython.display import display, Markdown\n",
    "import socket\n",
    "\n",
    "def whois_ip_lookup(query):\n",
    "    try:\n",
    "        ip = socket.gethostbyname(query)\n",
    "        obj = IPWhois(ip)\n",
    "        result = obj.lookup_rdap()\n",
    "        display(Markdown(f\"### WHOIS results for `{query}` (IP: {ip})\\n\"))\n",
    "        for key, value in result.items():\n",
    "            display(Markdown(f\"**{key}:** {value}\"))\n",
    "    except Exception as e:\n",
    "        display(Markdown(f\"**Error:** {e}\"))\n",
    "\n",
    "# Example usage\n",
    "query = input(\"Enter an IP or domain: \").strip()\n",
    "whois_ip_lookup(query)\n"
   ]
  }
 ],
 "metadata": {
  "kernelspec": {
   "display_name": "roadmap",
   "language": "python",
   "name": "python3"
  },
  "language_info": {
   "codemirror_mode": {
    "name": "ipython",
    "version": 3
   },
   "file_extension": ".py",
   "mimetype": "text/x-python",
   "name": "python",
   "nbconvert_exporter": "python",
   "pygments_lexer": "ipython3",
   "version": "3.11.11"
  }
 },
 "nbformat": 4,
 "nbformat_minor": 5
}
