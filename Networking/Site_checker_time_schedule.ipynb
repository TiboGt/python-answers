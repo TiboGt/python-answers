{
 "cells": [
  {
   "cell_type": "markdown",
   "id": "9d681bdf",
   "metadata": {},
   "source": [
    "Site Checker with Time Scheduling - An application that attempts to connect to a website or server every so many minutes or a given time and check if it is up. If it is down, it will notify you by email or by posting a notice on screen."
   ]
  },
  {
   "cell_type": "code",
   "execution_count": null,
   "id": "3fbb3509",
   "metadata": {},
   "outputs": [
    {
     "name": "stdout",
     "output_type": "stream",
     "text": [
      "Starting monitoring for: https://example.com every 5 minute(s)\n",
      "[2025-05-26 12:59:44] Site is up.\n"
     ]
    }
   ],
   "source": [
    "import time\n",
    "import requests\n",
    "import smtplib\n",
    "from email.mime.text import MIMEText\n",
    "from datetime import datetime\n",
    "\n",
    "# === CONFIGURATION ===\n",
    "url = \"https://example.com\"\n",
    "interval_minutes = 5\n",
    "notify_email = False\n",
    "notify_screen = True\n",
    "\n",
    "# Email config (only used if notify_email = True)\n",
    "smtp_server = \"smtp.example.com\"\n",
    "smtp_port = 587\n",
    "smtp_user = \"your_email@example.com\"\n",
    "smtp_password = \"your_password\"\n",
    "recipient_email = \"recipient@example.com\"\n",
    "\n",
    "# === FUNCTION ===\n",
    "def send_email(subject, body):\n",
    "    msg = MIMEText(body)\n",
    "    msg[\"Subject\"] = subject\n",
    "    msg[\"From\"] = smtp_user\n",
    "    msg[\"To\"] = recipient_email\n",
    "    with smtplib.SMTP(smtp_server, smtp_port) as server:\n",
    "        server.starttls()\n",
    "        server.login(smtp_user, smtp_password)\n",
    "        server.send_message(msg)\n",
    "\n",
    "def check_site():\n",
    "    try:\n",
    "        r = requests.get(url, timeout=10)\n",
    "        if r.status_code == 200:\n",
    "            return True\n",
    "    except Exception:\n",
    "        pass\n",
    "    return False\n",
    "\n",
    "# === LOOP ===\n",
    "print(f\"Starting monitoring for: {url} every {interval_minutes} minute(s)\")\n",
    "while True:\n",
    "    is_up = check_site()\n",
    "    now = datetime.now().strftime(\"%Y-%m-%d %H:%M:%S\")\n",
    "    if not is_up:\n",
    "        msg = f\"[{now}] Site is DOWN: {url}\"\n",
    "        if notify_screen:\n",
    "            print(msg)\n",
    "        if notify_email:\n",
    "            send_email(f\"Site DOWN: {url}\", msg)\n",
    "    else:\n",
    "        print(f\"[{now}] Site is up.\")\n",
    "    time.sleep(interval_minutes * 60)\n"
   ]
  }
 ],
 "metadata": {
  "kernelspec": {
   "display_name": "roadmap",
   "language": "python",
   "name": "python3"
  },
  "language_info": {
   "codemirror_mode": {
    "name": "ipython",
    "version": 3
   },
   "file_extension": ".py",
   "mimetype": "text/x-python",
   "name": "python",
   "nbconvert_exporter": "python",
   "pygments_lexer": "ipython3",
   "version": "3.11.11"
  }
 },
 "nbformat": 4,
 "nbformat_minor": 5
}
