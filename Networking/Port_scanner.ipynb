{
 "cells": [
  {
   "cell_type": "markdown",
   "id": "028af2b3",
   "metadata": {},
   "source": [
    "Port Scanner - Enter an IP address and a port range where the program will then attempt to find open ports on the given computer by connecting to each of them. On any successful connections mark the port as open."
   ]
  },
  {
   "cell_type": "code",
   "execution_count": 9,
   "id": "629bc5b7",
   "metadata": {},
   "outputs": [
    {
     "name": "stdout",
     "output_type": "stream",
     "text": [
      "------------------------------------------------------------\n",
      "Scanning target: 192.168.1.187\n",
      "Scanning ports: 0 - 139\n",
      "Time started: 2025-04-25 09:37:25.961718\n",
      "------------------------------------------------------------\n",
      "Port 135: Open\n",
      "Port 139: Open\n",
      "------------------------------------------------------------\n",
      "Scan complete\n",
      "Open ports found:\n",
      "135, 139\n",
      "Time finished: 2025-04-25 09:38:34.739996\n",
      "------------------------------------------------------------\n"
     ]
    }
   ],
   "source": [
    "import socket\n",
    "import sys\n",
    "from datetime import datetime\n",
    "\n",
    "\n",
    "def get_target_info():\n",
    "    \"\"\"Ask the user for target IP and port range.\"\"\"\n",
    "    target_host = input(\"Enter target IP address or hostname: \")\n",
    "    try:\n",
    "        start_port = int(input(\"Enter a start port number: \"))\n",
    "        end_port = int(input(\"Enter end port number: \"))\n",
    "\n",
    "        if not (0 <= start_port <= 65535 and 0 <= end_port <= 65535):\n",
    "            raise ValueError(\"Port number must be between 0 and 65535\")\n",
    "        if start_port > end_port:\n",
    "            raise ValueError(\"Start port can't be greater than end port\")\n",
    "\n",
    "        return target_host, start_port, end_port\n",
    "\n",
    "    except ValueError as e:\n",
    "        print(f\"Invalid input: {e}\")\n",
    "        sys.exit(1)\n",
    "\n",
    "\n",
    "def scan_ports(target, start_port, end_port):\n",
    "    \"\"\"Scan ports in the specified range and return a list of open ports.\"\"\"\n",
    "    open_ports = []\n",
    "    socket.setdefaulttimeout(0.5)\n",
    "\n",
    "    print(\"-\" * 60)\n",
    "    print(f\"Scanning target: {target}\")\n",
    "    print(f\"Scanning ports: {start_port} - {end_port}\")\n",
    "    print(f\"Time started: {datetime.now()}\")\n",
    "    print(\"-\" * 60)\n",
    "\n",
    "    try:\n",
    "        for port in range(start_port, end_port + 1):\n",
    "            with socket.socket(socket.AF_INET, socket.SOCK_STREAM) as sock:\n",
    "                result = sock.connect_ex((target, port))\n",
    "                if result == 0:\n",
    "                    print(f\"Port {port}: Open\")\n",
    "                    open_ports.append(port)\n",
    "    except socket.error as e:\n",
    "        print(f\"\\nCould not connect to server or socket during scan: {e}\")\n",
    "        sys.exit(1)\n",
    "\n",
    "    return open_ports\n",
    "\n",
    "\n",
    "def print_scan_summary(open_ports):\n",
    "    \"\"\"Print a summary of the scan results.\"\"\"\n",
    "    print(\"-\" * 60)\n",
    "    print(\"Scan complete\")\n",
    "    if open_ports:\n",
    "        print(\"Open ports found:\")\n",
    "        print(\", \".join(map(str, open_ports)))\n",
    "    else:\n",
    "        print(\"No open ports found in the specified range\")\n",
    "    print(f\"Time finished: {datetime.now()}\")\n",
    "    print(\"-\" * 60)\n",
    "\n",
    "\n",
    "def main():\n",
    "    target, start_port, end_port = get_target_info()\n",
    "    open_ports = scan_ports(target, start_port, end_port)\n",
    "    print_scan_summary(open_ports)\n",
    "\n",
    "\n",
    "if __name__ == \"__main__\":\n",
    "    main()\n"
   ]
  }
 ],
 "metadata": {
  "kernelspec": {
   "display_name": "roadmap",
   "language": "python",
   "name": "python3"
  },
  "language_info": {
   "codemirror_mode": {
    "name": "ipython",
    "version": 3
   },
   "file_extension": ".py",
   "mimetype": "text/x-python",
   "name": "python",
   "nbconvert_exporter": "python",
   "pygments_lexer": "ipython3",
   "version": "3.11.11"
  }
 },
 "nbformat": 4,
 "nbformat_minor": 5
}
